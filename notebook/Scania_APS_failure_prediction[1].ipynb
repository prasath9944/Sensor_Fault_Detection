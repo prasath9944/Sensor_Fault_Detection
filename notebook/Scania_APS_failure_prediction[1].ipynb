{
 "cells": [
  {
   "cell_type": "markdown",
   "metadata": {},
   "source": [
    "### Check the total percentage of missing values of full dataset after dropping columns with more than 70% of missing values"
   ]
  },
  {
   "cell_type": "markdown",
   "metadata": {},
   "source": [
    "#                                Sensor Component Failure Prediction"
   ]
  },
  {
   "cell_type": "code",
   "execution_count": null,
   "metadata": {},
   "outputs": [],
   "source": []
  },
  {
   "cell_type": "markdown",
   "metadata": {},
   "source": [
    "## 1) Problem statement.\n",
    "\n",
    "**Data:** Sensor Data\n",
    "\n",
    "**Problem statement :**\n",
    "- The system in focus is the Air Pressure system (APS) which generates pressurized air that are utilized in various functions in a truck, such as braking and gear changes. The datasets positive class corresponds to component failures for a specific component of the APS system. The negative class corresponds to trucks with failures for components not related to the APS system.\n",
    "\n",
    "- The problem is to reduce the cost due to unnecessary repairs. So it is required to minimize the false predictions."
   ]
  },
  {
   "cell_type": "markdown",
   "metadata": {},
   "source": [
    "|True class | Positive | Negative | |\n",
    "| ----------- | ----------- |   |  |\n",
    "|<b>Predicted class</b>||| |\n",
    "| Positive      |   -       | cost_1  |    |\n",
    "| Negative   | cost_2        |  | |\n",
    "\n",
    "\n",
    "Cost 1 = 10 and Cost 2 = 500"
   ]
  },
  {
   "cell_type": "markdown",
   "metadata": {},
   "source": [
    "- The total cost of a prediction model the sum of `Cost_1` multiplied by the number of Instances with type 1 failure and `Cost_2` with the number of instances with type 2 failure, resulting in a `Total_cost`. In this case `Cost_1` refers to the cost that an unnessecary check needs to be done by an mechanic at an workshop, while `Cost_2` refer to the cost of missing a faulty truck, which may cause a breakdown. \n",
    "- `Total_cost = Cost_1 * No_Instances + Cost_2 * No_Instances.`\n",
    "\n",
    "- From the above problem statement we could observe that, we have to reduce false positives and false negatives. More importantly we have to **reduce false negatives, since cost incurred due to false negative is 50 times higher than the false positives.**"
   ]
  },
  {
   "cell_type": "markdown",
   "metadata": {},
   "source": [
    "## Challenges and other objectives\n",
    "\n",
    "- Need to Handle many Null values in almost all columns\n",
    "- No low-latency requirement.\n",
    "- Interpretability is not important.\n",
    "- misclassification leads the unecessary repair costs."
   ]
  },
  {
   "cell_type": "markdown",
   "metadata": {},
   "source": [
    "## 2) Import required libraries"
   ]
  },
  {
   "cell_type": "code",
   "execution_count": 7,
   "metadata": {},
   "outputs": [],
   "source": [
    "import pandas as pd\n",
    "import seaborn as sns\n",
    "import numpy as np\n",
    "from statistics import mean\n",
    "import matplotlib.pyplot as plt\n",
    "import warnings\n",
    "from sklearn.preprocessing import PowerTransformer\n",
    "import numpy as np\n",
    "from sklearn.preprocessing import LabelEncoder\n",
    "from sklearn.pipeline import Pipeline\n",
    "from sklearn.utils import resample\n",
    "\n",
    "from sklearn.linear_model import LogisticRegression\n",
    "from sklearn.ensemble import RandomForestClassifier, AdaBoostClassifier, GradientBoostingClassifier\n",
    "from sklearn.neighbors import KNeighborsClassifier\n",
    "from sklearn.tree import DecisionTreeClassifier\n",
    "from sklearn.svm import SVC\n",
    "from sklearn.metrics import accuracy_score, classification_report,ConfusionMatrixDisplay, \\\n",
    "                            precision_score, recall_score, f1_score, roc_auc_score,roc_curve,confusion_matrix\n",
    "\n",
    "\n",
    "from sklearn import metrics \n",
    "from sklearn.model_selection import  train_test_split, RepeatedStratifiedKFold, cross_val_score\n",
    "from sklearn.preprocessing import OneHotEncoder, MinMaxScaler\n",
    "from sklearn.compose import ColumnTransformer\n",
    "from sklearn.impute import SimpleImputer, KNNImputer\n",
    "from xgboost import XGBClassifier\n",
    "from sklearn.preprocessing import StandardScaler, MinMaxScaler,RobustScaler\n",
    "from sklearn.compose import ColumnTransformer\n",
    "from catboost import CatBoostClassifier\n",
    "\n",
    "warnings.filterwarnings(\"ignore\")\n",
    "%matplotlib inline"
   ]
  },
  {
   "cell_type": "markdown",
   "metadata": {},
   "source": [
    "### Read Data"
   ]
  },
  {
   "cell_type": "code",
   "execution_count": 8,
   "metadata": {},
   "outputs": [],
   "source": [
    "# Load csv file\n",
    "df = pd.read_csv('/config/workspace/aps_failure_training_set1.csv', na_values=\"na\")"
   ]
  },
  {
   "cell_type": "code",
   "execution_count": 9,
   "metadata": {},
   "outputs": [
    {
     "data": {
      "text/plain": [
       "(36188, 171)"
      ]
     },
     "execution_count": 9,
     "metadata": {},
     "output_type": "execute_result"
    }
   ],
   "source": [
    "# check rows and columns of the dataset\n",
    "df.shape"
   ]
  },
  {
   "cell_type": "code",
   "execution_count": 10,
   "metadata": {},
   "outputs": [
    {
     "data": {
      "text/plain": [
       "neg    35188\n",
       "pos     1000\n",
       "Name: class, dtype: int64"
      ]
     },
     "execution_count": 10,
     "metadata": {},
     "output_type": "execute_result"
    }
   ],
   "source": [
    "# Check unique values of target varaible\n",
    "df['class'].value_counts()"
   ]
  },
  {
   "cell_type": "code",
   "execution_count": 11,
   "metadata": {},
   "outputs": [
    {
     "name": "stdout",
     "output_type": "stream",
     "text": [
      "We have 170 numerical features : ['aa_000', 'ab_000', 'ac_000', 'ad_000', 'ae_000', 'af_000', 'ag_000', 'ag_001', 'ag_002', 'ag_003', 'ag_004', 'ag_005', 'ag_006', 'ag_007', 'ag_008', 'ag_009', 'ah_000', 'ai_000', 'aj_000', 'ak_000', 'al_000', 'am_0', 'an_000', 'ao_000', 'ap_000', 'aq_000', 'ar_000', 'as_000', 'at_000', 'au_000', 'av_000', 'ax_000', 'ay_000', 'ay_001', 'ay_002', 'ay_003', 'ay_004', 'ay_005', 'ay_006', 'ay_007', 'ay_008', 'ay_009', 'az_000', 'az_001', 'az_002', 'az_003', 'az_004', 'az_005', 'az_006', 'az_007', 'az_008', 'az_009', 'ba_000', 'ba_001', 'ba_002', 'ba_003', 'ba_004', 'ba_005', 'ba_006', 'ba_007', 'ba_008', 'ba_009', 'bb_000', 'bc_000', 'bd_000', 'be_000', 'bf_000', 'bg_000', 'bh_000', 'bi_000', 'bj_000', 'bk_000', 'bl_000', 'bm_000', 'bn_000', 'bo_000', 'bp_000', 'bq_000', 'br_000', 'bs_000', 'bt_000', 'bu_000', 'bv_000', 'bx_000', 'by_000', 'bz_000', 'ca_000', 'cb_000', 'cc_000', 'cd_000', 'ce_000', 'cf_000', 'cg_000', 'ch_000', 'ci_000', 'cj_000', 'ck_000', 'cl_000', 'cm_000', 'cn_000', 'cn_001', 'cn_002', 'cn_003', 'cn_004', 'cn_005', 'cn_006', 'cn_007', 'cn_008', 'cn_009', 'co_000', 'cp_000', 'cq_000', 'cr_000', 'cs_000', 'cs_001', 'cs_002', 'cs_003', 'cs_004', 'cs_005', 'cs_006', 'cs_007', 'cs_008', 'cs_009', 'ct_000', 'cu_000', 'cv_000', 'cx_000', 'cy_000', 'cz_000', 'da_000', 'db_000', 'dc_000', 'dd_000', 'de_000', 'df_000', 'dg_000', 'dh_000', 'di_000', 'dj_000', 'dk_000', 'dl_000', 'dm_000', 'dn_000', 'do_000', 'dp_000', 'dq_000', 'dr_000', 'ds_000', 'dt_000', 'du_000', 'dv_000', 'dx_000', 'dy_000', 'dz_000', 'ea_000', 'eb_000', 'ec_00', 'ed_000', 'ee_000', 'ee_001', 'ee_002', 'ee_003', 'ee_004', 'ee_005', 'ee_006', 'ee_007', 'ee_008', 'ee_009', 'ef_000', 'eg_000']\n",
      "\n",
      "We have 1 categorical features : ['class']\n"
     ]
    }
   ],
   "source": [
    "# define numerical & categorical columns\n",
    "numeric_features = [feature for feature in df.columns if df[feature].dtype != 'O']\n",
    "categorical_features = [feature for feature in df.columns if df[feature].dtype == 'O']\n",
    "\n",
    "# print columns\n",
    "print('We have {} numerical features : {}'.format(len(numeric_features), numeric_features))\n",
    "print('\\nWe have {} categorical features : {}'.format(len(categorical_features), categorical_features))"
   ]
  },
  {
   "cell_type": "markdown",
   "metadata": {},
   "source": [
    "### As this is a Sensor data. Interpretation of the data is not required "
   ]
  },
  {
   "cell_type": "markdown",
   "metadata": {},
   "source": [
    "### Checking missing values"
   ]
  },
  {
   "cell_type": "code",
   "execution_count": 12,
   "metadata": {},
   "outputs": [
    {
     "data": {
      "image/png": "[encoded data removed]",
      "text/plain": [
       "<Figure size 1500x500 with 1 Axes>"
      ]
     },
     "metadata": {},
     "output_type": "display_data"
    }
   ],
   "source": [
    "# Plotting Missing values count for each column\n",
    "fig, ax = plt.subplots(figsize=(15,5))\n",
    "\n",
    "missing = df.isna().sum().div(df.shape[0]).mul(100).to_frame().sort_values(by=0, ascending = False)\n",
    "\n",
    "ax.bar(missing.index, missing.values.T[0])\n",
    "plt.xticks([])\n",
    "plt.ylabel(\"Percentage missing\")\n",
    "plt.show()"
   ]
  },
  {
   "cell_type": "markdown",
   "metadata": {},
   "source": [
    "### Dropping Columns which has more than 70% of missing values."
   ]
  },
  {
   "cell_type": "code",
   "execution_count": 13,
   "metadata": {
    "scrolled": true
   },
   "outputs": [
    {
     "data": {
      "text/html": [
       "<div>\n",
       "<style scoped>\n",
       "    .dataframe tbody tr th:only-of-type {\n",
       "        vertical-align: middle;\n",
       "    }\n",
       "\n",
       "    .dataframe tbody tr th {\n",
       "        vertical-align: top;\n",
       "    }\n",
       "\n",
       "    .dataframe thead th {\n",
       "        text-align: right;\n",
       "    }\n",
       "</style>\n",
       "<table border=\"1\" class=\"dataframe\">\n",
       "  <thead>\n",
       "    <tr style=\"text-align: right;\">\n",
       "      <th></th>\n",
       "      <th>0</th>\n",
       "    </tr>\n",
       "  </thead>\n",
       "  <tbody>\n",
       "    <tr>\n",
       "      <th>br_000</th>\n",
       "      <td>81.410965</td>\n",
       "    </tr>\n",
       "    <tr>\n",
       "      <th>bq_000</th>\n",
       "      <td>80.501824</td>\n",
       "    </tr>\n",
       "    <tr>\n",
       "      <th>bp_000</th>\n",
       "      <td>78.794075</td>\n",
       "    </tr>\n",
       "    <tr>\n",
       "      <th>ab_000</th>\n",
       "      <td>77.086327</td>\n",
       "    </tr>\n",
       "    <tr>\n",
       "      <th>cr_000</th>\n",
       "      <td>77.086327</td>\n",
       "    </tr>\n",
       "    <tr>\n",
       "      <th>bo_000</th>\n",
       "      <td>76.533658</td>\n",
       "    </tr>\n",
       "    <tr>\n",
       "      <th>bn_000</th>\n",
       "      <td>72.761689</td>\n",
       "    </tr>\n",
       "  </tbody>\n",
       "</table>\n",
       "</div>"
      ],
      "text/plain": [
       "                0\n",
       "br_000  81.410965\n",
       "bq_000  80.501824\n",
       "bp_000  78.794075\n",
       "ab_000  77.086327\n",
       "cr_000  77.086327\n",
       "bo_000  76.533658\n",
       "bn_000  72.761689"
      ]
     },
     "execution_count": 13,
     "metadata": {},
     "output_type": "execute_result"
    }
   ],
   "source": [
    "## Dropping columns which has more than 70% of missing values\n",
    "dropcols = missing[missing[0]>70]\n",
    "dropcols"
   ]
  },
  {
   "cell_type": "code",
   "execution_count": 14,
   "metadata": {},
   "outputs": [],
   "source": [
    "df.drop(list(dropcols.index), axis=1, inplace=True)"
   ]
  },
  {
   "cell_type": "code",
   "execution_count": 15,
   "metadata": {},
   "outputs": [
    {
     "data": {
      "text/plain": [
       "(36188, 164)"
      ]
     },
     "execution_count": 15,
     "metadata": {},
     "output_type": "execute_result"
    }
   ],
   "source": [
    "# Check shape of the dataset after dropping columns\n",
    "df.shape"
   ]
  },
  {
   "cell_type": "code",
   "execution_count": 16,
   "metadata": {},
   "outputs": [
    {
     "name": "stdout",
     "output_type": "stream",
     "text": [
      "Percentage of total missing cells in the data 5.37059852747306%\n"
     ]
    }
   ],
   "source": [
    "missing_values_count= df.isnull().sum()\n",
    "total_cells = np.product(df.shape)\n",
    "total_missing = missing_values_count.sum()\n",
    "\n",
    "# percent of data that is missing\n",
    "print(f\"Percentage of total missing cells in the data {(total_missing/total_cells) * 100}%\")"
   ]
  },
  {
   "cell_type": "markdown",
   "metadata": {},
   "source": [
    "## Visualization of unique values in Target variable"
   ]
  },
  {
   "cell_type": "code",
   "execution_count": 17,
   "metadata": {},
   "outputs": [
    {
     "name": "stdout",
     "output_type": "stream",
     "text": [
      "Positive: 1000, Negative: 35188\n"
     ]
    },
    {
     "data": {
      "image/png": "[encoded data removed]",
      "text/plain": [
       "<Figure size 500x500 with 1 Axes>"
      ]
     },
     "metadata": {},
     "output_type": "display_data"
    }
   ],
   "source": [
    "pos = df[df['class']=='pos'].shape[0]\n",
    "neg = df[df['class']=='neg'].shape[0]\n",
    "print(\"Positive: \" + str(pos) + \", Negative: \" + str(neg))\n",
    "sns.catplot(data=df, x=\"class\", kind=\"count\", palette=\"winter_r\", alpha=.6)\n",
    "plt.show()"
   ]
  },
  {
   "cell_type": "markdown",
   "metadata": {},
   "source": [
    "**Report**\n",
    "- The target classes are highly imbalanced\n",
    "- Class imbalance is a scenario that arises when we have unequal distribution of class in a dataset i.e. the no. of data points in the negative class (majority class) very large compared to that of the positive class (minority class)\n",
    "- If the imbalanced data is not treated beforehand, then this will degrade the performance of the classifier model. \n",
    "- Hence we should handle imbalanced data with certain methods.\n",
    "\n",
    "**How to handle Imbalance Data ?**\n",
    "\n",
    "- Resampling data is one of the most commonly preferred approaches to deal with an imbalanced dataset. There are broadly two types of methods for this i) Undersampling ii) Oversampling. In most cases, oversampling is preferred over undersampling techniques. The reason being, in undersampling we tend to remove instances from data that may be carrying some important information.\n",
    "- **SMOTE:** Synthetic Minority Oversampling Technique\n",
    "- SMOTE is an oversampling technique where the synthetic samples are generated for the minority class.\n",
    "- Hybridization techniques involve combining both undersampling and oversampling techniques. This is done to optimize the performance of classifier models for the samples created as part of these techniques.\n",
    "- It only duplicates the data and it won't add and new information. Hence we look at some different techniques."
   ]
  },
  {
   "cell_type": "markdown",
   "metadata": {},
   "source": [
    "## Create Functions for model training and evaluation"
   ]
  },
  {
   "cell_type": "code",
   "execution_count": 18,
   "metadata": {},
   "outputs": [],
   "source": [
    "def evaluate_clf(true, predicted):\n",
    "    '''\n",
    "    This function takes in true values and predicted values\n",
    "    Returns: Accuracy, F1-Score, Precision, Recall, Roc-auc Score\n",
    "    '''\n",
    "    acc = accuracy_score(true, predicted) # Calculate Accuracy\n",
    "    f1 = f1_score(true, predicted) # Calculate F1-score\n",
    "    precision = precision_score(true, predicted) # Calculate Precision\n",
    "    recall = recall_score(true, predicted)  # Calculate Recall\n",
    "    roc_auc = roc_auc_score(true, predicted) #Calculate Roc\n",
    "    return acc, f1 , precision, recall, roc_auc"
   ]
  },
  {
   "cell_type": "code",
   "execution_count": 19,
   "metadata": {},
   "outputs": [],
   "source": [
    "# Create cost of the model as per data description\n",
    "def total_cost(y_true, y_pred):\n",
    "    '''\n",
    "    This function takes y_ture, y_predicted, and prints Total cost due to misclassification\n",
    "   \n",
    "    '''\n",
    "    tn, fp, fn, tp = confusion_matrix(y_true, y_pred).ravel()\n",
    "    cost = 10*fp + 500*fn\n",
    "    return cost"
   ]
  },
  {
   "cell_type": "code",
   "execution_count": 20,
   "metadata": {},
   "outputs": [],
   "source": [
    "# Create a function which can evaluate models and return a report \n",
    "def evaluate_models(X, y, models):\n",
    "    '''\n",
    "    This function takes in X and y and models dictionary as input\n",
    "    It splits the data into Train Test split\n",
    "    Iterates through the given model dictionary and evaluates the metrics\n",
    "    Returns: Dataframe which contains report of all models metrics with cost\n",
    "    '''\n",
    "    # separate dataset into train and test\n",
    "    X_train, X_test, y_train, y_test = train_test_split(X,y,test_size=0.2,random_state=42)\n",
    "    \n",
    "    cost_list=[]\n",
    "    models_list = []\n",
    "    accuracy_list = []\n",
    "    \n",
    "    for i in range(len(list(models))):\n",
    "        model = list(models.values())[i]\n",
    "        model.fit(X_train, y_train) # Train model\n",
    "\n",
    "        # Make predictions\n",
    "        y_train_pred = model.predict(X_train)\n",
    "        y_test_pred = model.predict(X_test)\n",
    "\n",
    "        # Training set performance\n",
    "        model_train_accuracy, model_train_f1,model_train_precision,\\\n",
    "        model_train_recall,model_train_rocauc_score=evaluate_clf(y_train ,y_train_pred)\n",
    "        train_cost = total_cost(y_train, y_train_pred)\n",
    "\n",
    "\n",
    "        # Test set performance\n",
    "        model_test_accuracy,model_test_f1,model_test_precision,\\\n",
    "        model_test_recall,model_test_rocauc_score=evaluate_clf(y_test, y_test_pred)\n",
    "        test_cost = total_cost(y_test, y_test_pred)\n",
    "\n",
    "        print(list(models.keys())[i])\n",
    "        models_list.append(list(models.keys())[i])\n",
    "\n",
    "        print('Model performance for Training set')\n",
    "        print(\"- Accuracy: {:.4f}\".format(model_train_accuracy))\n",
    "        print('- F1 score: {:.4f}'.format(model_train_f1)) \n",
    "        print('- Precision: {:.4f}'.format(model_train_precision))\n",
    "        print('- Recall: {:.4f}'.format(model_train_recall))\n",
    "        print('- Roc Auc Score: {:.4f}'.format(model_train_rocauc_score))\n",
    "        print(f'- COST: {train_cost}.')\n",
    "\n",
    "        print('----------------------------------')\n",
    "\n",
    "        print('Model performance for Test set')\n",
    "        print('- Accuracy: {:.4f}'.format(model_test_accuracy))\n",
    "        print('- F1 score: {:.4f}'.format(model_test_f1))\n",
    "        print('- Precision: {:.4f}'.format(model_test_precision))\n",
    "        print('- Recall: {:.4f}'.format(model_test_recall))\n",
    "        print('- Roc Auc Score: {:.4f}'.format(model_test_rocauc_score))\n",
    "        print(f'- COST: {test_cost}.')\n",
    "        cost_list.append(test_cost)\n",
    "        print('='*35)\n",
    "        print('\\n')\n",
    "        \n",
    "    report=pd.DataFrame(list(zip(models_list, cost_list)), columns=['Model Name', 'Cost']).sort_values(by=[\"Cost\"])\n",
    "        \n",
    "    return report"
   ]
  },
  {
   "cell_type": "markdown",
   "metadata": {},
   "source": [
    "### Plot  distribution of all Independent Numerical variables"
   ]
  },
  {
   "cell_type": "code",
   "execution_count": 21,
   "metadata": {
    "scrolled": false
   },
   "outputs": [
    {
     "ename": "KeyboardInterrupt",
     "evalue": "",
     "output_type": "error",
     "traceback": [
      "\u001b[0;31m---------------------------------------------------------------------------\u001b[0m",
      "\u001b[0;31mKeyboardInterrupt\u001b[0m                         Traceback (most recent call last)",
      "Cell \u001b[0;32mIn[21], line 8\u001b[0m\n\u001b[1;32m      6\u001b[0m sns\u001b[38;5;241m.\u001b[39mdistplot(x\u001b[38;5;241m=\u001b[39mdf[col], color\u001b[38;5;241m=\u001b[39m\u001b[38;5;124m'\u001b[39m\u001b[38;5;124mindianred\u001b[39m\u001b[38;5;124m'\u001b[39m)\n\u001b[1;32m      7\u001b[0m plt\u001b[38;5;241m.\u001b[39mxlabel(col, weight\u001b[38;5;241m=\u001b[39m\u001b[38;5;124m'\u001b[39m\u001b[38;5;124mbold\u001b[39m\u001b[38;5;124m'\u001b[39m)\n\u001b[0;32m----> 8\u001b[0m \u001b[43mplt\u001b[49m\u001b[38;5;241;43m.\u001b[39;49m\u001b[43mtight_layout\u001b[49m\u001b[43m(\u001b[49m\u001b[43m)\u001b[49m\n",
      "File \u001b[0;32m~/.local/lib/python3.8/site-packages/matplotlib/pyplot.py:2277\u001b[0m, in \u001b[0;36mtight_layout\u001b[0;34m(pad, h_pad, w_pad, rect)\u001b[0m\n\u001b[1;32m   2275\u001b[0m \u001b[39m@_copy_docstring_and_deprecators\u001b[39m(Figure\u001b[39m.\u001b[39mtight_layout)\n\u001b[1;32m   2276\u001b[0m \u001b[39mdef\u001b[39;00m \u001b[39mtight_layout\u001b[39m(\u001b[39m*\u001b[39m, pad\u001b[39m=\u001b[39m\u001b[39m1.08\u001b[39m, h_pad\u001b[39m=\u001b[39m\u001b[39mNone\u001b[39;00m, w_pad\u001b[39m=\u001b[39m\u001b[39mNone\u001b[39;00m, rect\u001b[39m=\u001b[39m\u001b[39mNone\u001b[39;00m):\n\u001b[0;32m-> 2277\u001b[0m     \u001b[39mreturn\u001b[39;00m gcf()\u001b[39m.\u001b[39;49mtight_layout(pad\u001b[39m=\u001b[39;49mpad, h_pad\u001b[39m=\u001b[39;49mh_pad, w_pad\u001b[39m=\u001b[39;49mw_pad, rect\u001b[39m=\u001b[39;49mrect)\n",
      "File \u001b[0;32m~/.local/lib/python3.8/site-packages/matplotlib/figure.py:3445\u001b[0m, in \u001b[0;36mFigure.tight_layout\u001b[0;34m(self, pad, h_pad, w_pad, rect)\u001b[0m\n\u001b[1;32m   3443\u001b[0m \u001b[39mtry\u001b[39;00m:\n\u001b[1;32m   3444\u001b[0m     \u001b[39mself\u001b[39m\u001b[39m.\u001b[39mset_layout_engine(engine)\n\u001b[0;32m-> 3445\u001b[0m     engine\u001b[39m.\u001b[39;49mexecute(\u001b[39mself\u001b[39;49m)\n\u001b[1;32m   3446\u001b[0m \u001b[39mfinally\u001b[39;00m:\n\u001b[1;32m   3447\u001b[0m     \u001b[39mself\u001b[39m\u001b[39m.\u001b[39mset_layout_engine(\u001b[39mNone\u001b[39;00m)\n",
      "File \u001b[0;32m~/.local/lib/python3.8/site-packages/matplotlib/layout_engine.py:180\u001b[0m, in \u001b[0;36mTightLayoutEngine.execute\u001b[0;34m(self, fig)\u001b[0m\n\u001b[1;32m    178\u001b[0m renderer \u001b[39m=\u001b[39m fig\u001b[39m.\u001b[39m_get_renderer()\n\u001b[1;32m    179\u001b[0m \u001b[39mwith\u001b[39;00m \u001b[39mgetattr\u001b[39m(renderer, \u001b[39m\"\u001b[39m\u001b[39m_draw_disabled\u001b[39m\u001b[39m\"\u001b[39m, nullcontext)():\n\u001b[0;32m--> 180\u001b[0m     kwargs \u001b[39m=\u001b[39m get_tight_layout_figure(\n\u001b[1;32m    181\u001b[0m         fig, fig\u001b[39m.\u001b[39;49maxes, subplotspec_list, renderer,\n\u001b[1;32m    182\u001b[0m         pad\u001b[39m=\u001b[39;49minfo[\u001b[39m'\u001b[39;49m\u001b[39mpad\u001b[39;49m\u001b[39m'\u001b[39;49m], h_pad\u001b[39m=\u001b[39;49minfo[\u001b[39m'\u001b[39;49m\u001b[39mh_pad\u001b[39;49m\u001b[39m'\u001b[39;49m], w_pad\u001b[39m=\u001b[39;49minfo[\u001b[39m'\u001b[39;49m\u001b[39mw_pad\u001b[39;49m\u001b[39m'\u001b[39;49m],\n\u001b[1;32m    183\u001b[0m         rect\u001b[39m=\u001b[39;49minfo[\u001b[39m'\u001b[39;49m\u001b[39mrect\u001b[39;49m\u001b[39m'\u001b[39;49m])\n\u001b[1;32m    184\u001b[0m \u001b[39mif\u001b[39;00m kwargs:\n\u001b[1;32m    185\u001b[0m     fig\u001b[39m.\u001b[39msubplots_adjust(\u001b[39m*\u001b[39m\u001b[39m*\u001b[39mkwargs)\n",
      "File \u001b[0;32m~/.local/lib/python3.8/site-packages/matplotlib/_tight_layout.py:305\u001b[0m, in \u001b[0;36mget_tight_layout_figure\u001b[0;34m(fig, axes_list, subplotspec_list, renderer, pad, h_pad, w_pad, rect)\u001b[0m\n\u001b[1;32m    300\u001b[0m         \u001b[39mreturn\u001b[39;00m {}\n\u001b[1;32m    301\u001b[0m     span_pairs\u001b[39m.\u001b[39mappend((\n\u001b[1;32m    302\u001b[0m         \u001b[39mslice\u001b[39m(ss\u001b[39m.\u001b[39mrowspan\u001b[39m.\u001b[39mstart \u001b[39m*\u001b[39m div_row, ss\u001b[39m.\u001b[39mrowspan\u001b[39m.\u001b[39mstop \u001b[39m*\u001b[39m div_row),\n\u001b[1;32m    303\u001b[0m         \u001b[39mslice\u001b[39m(ss\u001b[39m.\u001b[39mcolspan\u001b[39m.\u001b[39mstart \u001b[39m*\u001b[39m div_col, ss\u001b[39m.\u001b[39mcolspan\u001b[39m.\u001b[39mstop \u001b[39m*\u001b[39m div_col)))\n\u001b[0;32m--> 305\u001b[0m kwargs \u001b[39m=\u001b[39m _auto_adjust_subplotpars(fig, renderer,\n\u001b[1;32m    306\u001b[0m                                   shape\u001b[39m=\u001b[39;49m(max_nrows, max_ncols),\n\u001b[1;32m    307\u001b[0m                                   span_pairs\u001b[39m=\u001b[39;49mspan_pairs,\n\u001b[1;32m    308\u001b[0m                                   subplot_list\u001b[39m=\u001b[39;49msubplot_list,\n\u001b[1;32m    309\u001b[0m                                   ax_bbox_list\u001b[39m=\u001b[39;49max_bbox_list,\n\u001b[1;32m    310\u001b[0m                                   pad\u001b[39m=\u001b[39;49mpad, h_pad\u001b[39m=\u001b[39;49mh_pad, w_pad\u001b[39m=\u001b[39;49mw_pad)\n\u001b[1;32m    312\u001b[0m \u001b[39m# kwargs can be none if tight_layout fails...\u001b[39;00m\n\u001b[1;32m    313\u001b[0m \u001b[39mif\u001b[39;00m rect \u001b[39mis\u001b[39;00m \u001b[39mnot\u001b[39;00m \u001b[39mNone\u001b[39;00m \u001b[39mand\u001b[39;00m kwargs \u001b[39mis\u001b[39;00m \u001b[39mnot\u001b[39;00m \u001b[39mNone\u001b[39;00m:\n\u001b[1;32m    314\u001b[0m     \u001b[39m# if rect is given, the whole subplots area (including\u001b[39;00m\n\u001b[1;32m    315\u001b[0m     \u001b[39m# labels) will fit into the rect instead of the\u001b[39;00m\n\u001b[0;32m   (...)\u001b[0m\n\u001b[1;32m    319\u001b[0m     \u001b[39m# auto_adjust_subplotpars twice, where the second run\u001b[39;00m\n\u001b[1;32m    320\u001b[0m     \u001b[39m# with adjusted rect parameters.\u001b[39;00m\n",
      "File \u001b[0;32m~/.local/lib/python3.8/site-packages/matplotlib/_tight_layout.py:82\u001b[0m, in \u001b[0;36m_auto_adjust_subplotpars\u001b[0;34m(fig, renderer, shape, span_pairs, subplot_list, ax_bbox_list, pad, h_pad, w_pad, rect)\u001b[0m\n\u001b[1;32m     80\u001b[0m \u001b[39mfor\u001b[39;00m ax \u001b[39min\u001b[39;00m subplots:\n\u001b[1;32m     81\u001b[0m     \u001b[39mif\u001b[39;00m ax\u001b[39m.\u001b[39mget_visible():\n\u001b[0;32m---> 82\u001b[0m         bb \u001b[39m+\u001b[39m\u001b[39m=\u001b[39m [martist\u001b[39m.\u001b[39;49m_get_tightbbox_for_layout_only(ax, renderer)]\n\u001b[1;32m     84\u001b[0m tight_bbox_raw \u001b[39m=\u001b[39m Bbox\u001b[39m.\u001b[39munion(bb)\n\u001b[1;32m     85\u001b[0m tight_bbox \u001b[39m=\u001b[39m fig\u001b[39m.\u001b[39mtransFigure\u001b[39m.\u001b[39minverted()\u001b[39m.\u001b[39mtransform_bbox(tight_bbox_raw)\n",
      "File \u001b[0;32m~/.local/lib/python3.8/site-packages/matplotlib/artist.py:1378\u001b[0m, in \u001b[0;36m_get_tightbbox_for_layout_only\u001b[0;34m(obj, *args, **kwargs)\u001b[0m\n\u001b[1;32m   1372\u001b[0m \u001b[39m\u001b[39m\u001b[39m\"\"\"\u001b[39;00m\n\u001b[1;32m   1373\u001b[0m \u001b[39mMatplotlib's `.Axes.get_tightbbox` and `.Axis.get_tightbbox` support a\u001b[39;00m\n\u001b[1;32m   1374\u001b[0m \u001b[39m*for_layout_only* kwarg; this helper tries to uses the kwarg but skips it\u001b[39;00m\n\u001b[1;32m   1375\u001b[0m \u001b[39mwhen encountering third-party subclasses that do not support it.\u001b[39;00m\n\u001b[1;32m   1376\u001b[0m \u001b[39m\"\"\"\u001b[39;00m\n\u001b[1;32m   1377\u001b[0m \u001b[39mtry\u001b[39;00m:\n\u001b[0;32m-> 1378\u001b[0m     \u001b[39mreturn\u001b[39;00m obj\u001b[39m.\u001b[39;49mget_tightbbox(\u001b[39m*\u001b[39;49margs, \u001b[39m*\u001b[39;49m\u001b[39m*\u001b[39;49m{\u001b[39m*\u001b[39;49m\u001b[39m*\u001b[39;49mkwargs, \u001b[39m\"\u001b[39;49m\u001b[39mfor_layout_only\u001b[39;49m\u001b[39m\"\u001b[39;49m: \u001b[39mTrue\u001b[39;49;00m})\n\u001b[1;32m   1379\u001b[0m \u001b[39mexcept\u001b[39;00m \u001b[39mTypeError\u001b[39;00m:\n\u001b[1;32m   1380\u001b[0m     \u001b[39mreturn\u001b[39;00m obj\u001b[39m.\u001b[39mget_tightbbox(\u001b[39m*\u001b[39margs, \u001b[39m*\u001b[39m\u001b[39m*\u001b[39mkwargs)\n",
      "File \u001b[0;32m~/.local/lib/python3.8/site-packages/matplotlib/axes/_base.py:4428\u001b[0m, in \u001b[0;36m_AxesBase.get_tightbbox\u001b[0;34m(self, renderer, call_axes_locator, bbox_extra_artists, for_layout_only)\u001b[0m\n\u001b[1;32m   4426\u001b[0m \u001b[39mfor\u001b[39;00m axis \u001b[39min\u001b[39;00m \u001b[39mself\u001b[39m\u001b[39m.\u001b[39m_axis_map\u001b[39m.\u001b[39mvalues():\n\u001b[1;32m   4427\u001b[0m     \u001b[39mif\u001b[39;00m \u001b[39mself\u001b[39m\u001b[39m.\u001b[39maxison \u001b[39mand\u001b[39;00m axis\u001b[39m.\u001b[39mget_visible():\n\u001b[0;32m-> 4428\u001b[0m         ba \u001b[39m=\u001b[39m martist\u001b[39m.\u001b[39;49m_get_tightbbox_for_layout_only(axis, renderer)\n\u001b[1;32m   4429\u001b[0m         \u001b[39mif\u001b[39;00m ba:\n\u001b[1;32m   4430\u001b[0m             bb\u001b[39m.\u001b[39mappend(ba)\n",
      "File \u001b[0;32m~/.local/lib/python3.8/site-packages/matplotlib/artist.py:1378\u001b[0m, in \u001b[0;36m_get_tightbbox_for_layout_only\u001b[0;34m(obj, *args, **kwargs)\u001b[0m\n\u001b[1;32m   1372\u001b[0m \u001b[39m\u001b[39m\u001b[39m\"\"\"\u001b[39;00m\n\u001b[1;32m   1373\u001b[0m \u001b[39mMatplotlib's `.Axes.get_tightbbox` and `.Axis.get_tightbbox` support a\u001b[39;00m\n\u001b[1;32m   1374\u001b[0m \u001b[39m*for_layout_only* kwarg; this helper tries to uses the kwarg but skips it\u001b[39;00m\n\u001b[1;32m   1375\u001b[0m \u001b[39mwhen encountering third-party subclasses that do not support it.\u001b[39;00m\n\u001b[1;32m   1376\u001b[0m \u001b[39m\"\"\"\u001b[39;00m\n\u001b[1;32m   1377\u001b[0m \u001b[39mtry\u001b[39;00m:\n\u001b[0;32m-> 1378\u001b[0m     \u001b[39mreturn\u001b[39;00m obj\u001b[39m.\u001b[39;49mget_tightbbox(\u001b[39m*\u001b[39;49margs, \u001b[39m*\u001b[39;49m\u001b[39m*\u001b[39;49m{\u001b[39m*\u001b[39;49m\u001b[39m*\u001b[39;49mkwargs, \u001b[39m\"\u001b[39;49m\u001b[39mfor_layout_only\u001b[39;49m\u001b[39m\"\u001b[39;49m: \u001b[39mTrue\u001b[39;49;00m})\n\u001b[1;32m   1379\u001b[0m \u001b[39mexcept\u001b[39;00m \u001b[39mTypeError\u001b[39;00m:\n\u001b[1;32m   1380\u001b[0m     \u001b[39mreturn\u001b[39;00m obj\u001b[39m.\u001b[39mget_tightbbox(\u001b[39m*\u001b[39margs, \u001b[39m*\u001b[39m\u001b[39m*\u001b[39mkwargs)\n",
      "File \u001b[0;32m~/.local/lib/python3.8/site-packages/matplotlib/axis.py:1253\u001b[0m, in \u001b[0;36mAxis.get_tightbbox\u001b[0;34m(self, renderer, for_layout_only)\u001b[0m\n\u001b[1;32m   1250\u001b[0m     renderer \u001b[39m=\u001b[39m \u001b[39mself\u001b[39m\u001b[39m.\u001b[39mfigure\u001b[39m.\u001b[39m_get_renderer()\n\u001b[1;32m   1251\u001b[0m ticks_to_draw \u001b[39m=\u001b[39m \u001b[39mself\u001b[39m\u001b[39m.\u001b[39m_update_ticks()\n\u001b[0;32m-> 1253\u001b[0m \u001b[39mself\u001b[39;49m\u001b[39m.\u001b[39;49m_update_label_position(renderer)\n\u001b[1;32m   1255\u001b[0m \u001b[39m# go back to just this axis's tick labels\u001b[39;00m\n\u001b[1;32m   1256\u001b[0m tlb1, tlb2 \u001b[39m=\u001b[39m \u001b[39mself\u001b[39m\u001b[39m.\u001b[39m_get_ticklabel_bboxes(ticks_to_draw, renderer)\n",
      "File \u001b[0;32m~/.local/lib/python3.8/site-packages/matplotlib/axis.py:2511\u001b[0m, in \u001b[0;36mYAxis._update_label_position\u001b[0;34m(self, renderer)\u001b[0m\n\u001b[1;32m   2509\u001b[0m \u001b[39mtry\u001b[39;00m:\n\u001b[1;32m   2510\u001b[0m     spine \u001b[39m=\u001b[39m \u001b[39mself\u001b[39m\u001b[39m.\u001b[39maxes\u001b[39m.\u001b[39mspines[\u001b[39m'\u001b[39m\u001b[39mleft\u001b[39m\u001b[39m'\u001b[39m]\n\u001b[0;32m-> 2511\u001b[0m     spinebbox \u001b[39m=\u001b[39m spine\u001b[39m.\u001b[39;49mget_window_extent()\n\u001b[1;32m   2512\u001b[0m \u001b[39mexcept\u001b[39;00m \u001b[39mKeyError\u001b[39;00m:\n\u001b[1;32m   2513\u001b[0m     \u001b[39m# use Axes if spine doesn't exist\u001b[39;00m\n\u001b[1;32m   2514\u001b[0m     spinebbox \u001b[39m=\u001b[39m \u001b[39mself\u001b[39m\u001b[39m.\u001b[39maxes\u001b[39m.\u001b[39mbbox\n",
      "File \u001b[0;32m~/.local/lib/python3.8/site-packages/matplotlib/spines.py:196\u001b[0m, in \u001b[0;36mSpine.get_window_extent\u001b[0;34m(self, renderer)\u001b[0m\n\u001b[1;32m    193\u001b[0m             bb0\u001b[39m.\u001b[39my0 \u001b[39m=\u001b[39m bb0\u001b[39m.\u001b[39my0 \u001b[39m-\u001b[39m padout\n\u001b[1;32m    194\u001b[0m     bboxes\u001b[39m.\u001b[39mappend(bb0)\n\u001b[0;32m--> 196\u001b[0m \u001b[39mreturn\u001b[39;00m mtransforms\u001b[39m.\u001b[39;49mBbox\u001b[39m.\u001b[39;49munion(bboxes)\n",
      "File \u001b[0;32m~/.local/lib/python3.8/site-packages/matplotlib/transforms.py:655\u001b[0m, in \u001b[0;36mBboxBase.union\u001b[0;34m(bboxes)\u001b[0m\n\u001b[1;32m    653\u001b[0m     \u001b[39mraise\u001b[39;00m \u001b[39mValueError\u001b[39;00m(\u001b[39m\"\u001b[39m\u001b[39m'\u001b[39m\u001b[39mbboxes\u001b[39m\u001b[39m'\u001b[39m\u001b[39m cannot be empty\u001b[39m\u001b[39m\"\u001b[39m)\n\u001b[1;32m    654\u001b[0m x0 \u001b[39m=\u001b[39m np\u001b[39m.\u001b[39mmin([bbox\u001b[39m.\u001b[39mxmin \u001b[39mfor\u001b[39;00m bbox \u001b[39min\u001b[39;00m bboxes])\n\u001b[0;32m--> 655\u001b[0m x1 \u001b[39m=\u001b[39m np\u001b[39m.\u001b[39mmax([bbox\u001b[39m.\u001b[39mxmax \u001b[39mfor\u001b[39;00m bbox \u001b[39min\u001b[39;00m bboxes])\n\u001b[1;32m    656\u001b[0m y0 \u001b[39m=\u001b[39m np\u001b[39m.\u001b[39mmin([bbox\u001b[39m.\u001b[39mymin \u001b[39mfor\u001b[39;00m bbox \u001b[39min\u001b[39;00m bboxes])\n\u001b[1;32m    657\u001b[0m y1 \u001b[39m=\u001b[39m np\u001b[39m.\u001b[39mmax([bbox\u001b[39m.\u001b[39mymax \u001b[39mfor\u001b[39;00m bbox \u001b[39min\u001b[39;00m bboxes])\n",
      "File \u001b[0;32m~/.local/lib/python3.8/site-packages/matplotlib/transforms.py:655\u001b[0m, in \u001b[0;36m<listcomp>\u001b[0;34m(.0)\u001b[0m\n\u001b[1;32m    653\u001b[0m     \u001b[39mraise\u001b[39;00m \u001b[39mValueError\u001b[39;00m(\u001b[39m\"\u001b[39m\u001b[39m'\u001b[39m\u001b[39mbboxes\u001b[39m\u001b[39m'\u001b[39m\u001b[39m cannot be empty\u001b[39m\u001b[39m\"\u001b[39m)\n\u001b[1;32m    654\u001b[0m x0 \u001b[39m=\u001b[39m np\u001b[39m.\u001b[39mmin([bbox\u001b[39m.\u001b[39mxmin \u001b[39mfor\u001b[39;00m bbox \u001b[39min\u001b[39;00m bboxes])\n\u001b[0;32m--> 655\u001b[0m x1 \u001b[39m=\u001b[39m np\u001b[39m.\u001b[39mmax([bbox\u001b[39m.\u001b[39;49mxmax \u001b[39mfor\u001b[39;00m bbox \u001b[39min\u001b[39;00m bboxes])\n\u001b[1;32m    656\u001b[0m y0 \u001b[39m=\u001b[39m np\u001b[39m.\u001b[39mmin([bbox\u001b[39m.\u001b[39mymin \u001b[39mfor\u001b[39;00m bbox \u001b[39min\u001b[39;00m bboxes])\n\u001b[1;32m    657\u001b[0m y1 \u001b[39m=\u001b[39m np\u001b[39m.\u001b[39mmax([bbox\u001b[39m.\u001b[39mymax \u001b[39mfor\u001b[39;00m bbox \u001b[39min\u001b[39;00m bboxes])\n",
      "File \u001b[0;32m~/.local/lib/python3.8/site-packages/matplotlib/transforms.py:326\u001b[0m, in \u001b[0;36mBboxBase.xmax\u001b[0;34m(self)\u001b[0m\n\u001b[1;32m    323\u001b[0m \u001b[39m@property\u001b[39m\n\u001b[1;32m    324\u001b[0m \u001b[39mdef\u001b[39;00m \u001b[39mxmax\u001b[39m(\u001b[39mself\u001b[39m):\n\u001b[1;32m    325\u001b[0m \u001b[39m    \u001b[39m\u001b[39m\"\"\"The right edge of the bounding box.\"\"\"\u001b[39;00m\n\u001b[0;32m--> 326\u001b[0m     \u001b[39mreturn\u001b[39;00m np\u001b[39m.\u001b[39mmax(\u001b[39mself\u001b[39;49m\u001b[39m.\u001b[39;49mget_points()[:, \u001b[39m0\u001b[39;49m])\n",
      "\u001b[0;31mKeyboardInterrupt\u001b[0m: "
     ]
    }
   ],
   "source": [
    "numeric_features = [feature for feature in df.columns if df[feature].dtype != 'O']\n",
    "\n",
    "plt.figure(figsize=(15, 100))\n",
    "for i, col in enumerate(numeric_features):\n",
    "    plt.subplot(60, 3, i+1)\n",
    "    sns.distplot(x=df[col], color='indianred')\n",
    "    plt.xlabel(col, weight='bold')\n",
    "    plt.tight_layout()"
   ]
  },
  {
   "cell_type": "markdown",
   "metadata": {},
   "source": [
    "**Report**\n",
    "- As per the above plot most of the features are not normally distributed.\n",
    "- Transformation of data is not of prime importance since it is a classification problem.\n",
    "- Interpreting each and every column is not necessary as this is sensor data."
   ]
  },
  {
   "cell_type": "markdown",
   "metadata": {},
   "source": [
    "# Evaluate Model on Different experiments"
   ]
  },
  {
   "cell_type": "code",
   "execution_count": null,
   "metadata": {},
   "outputs": [],
   "source": [
    "# Splitting X and y for all Experiments\n",
    "X= df.drop('class', axis=1)\n",
    "y = df['class']"
   ]
  },
  {
   "cell_type": "markdown",
   "metadata": {},
   "source": [
    "- **Manually Encoding Target Variable**"
   ]
  },
  {
   "cell_type": "code",
   "execution_count": null,
   "metadata": {
    "scrolled": true
   },
   "outputs": [],
   "source": [
    "y= y.replace({'pos': 1, 'neg': 0})"
   ]
  },
  {
   "cell_type": "markdown",
   "metadata": {},
   "source": [
    "### Experiment: 1 = KNN Imputer for Null values"
   ]
  },
  {
   "cell_type": "markdown",
   "metadata": {},
   "source": [
    "**Why Robust scaler and not Standard scaler?**\n",
    "- Scaling the data using Robust scaler\n",
    "- Since most of the independent variables are not normally distributed we cannot use Standardscaler"
   ]
  },
  {
   "cell_type": "markdown",
   "metadata": {},
   "source": [
    "**Why Robust Scaler and not Minmax?** \n",
    "- because most of the feature has outliers. So Minmax will scale data according to Max values which is outlier.\n",
    "- This Scaler removes the median and scales the data according to the quantile range (defaults to IQR: Interquartile Range). The IQR is the range between the 1st quartile (25th quantile) and the 3rd quartile (75th quantile)."
   ]
  },
  {
   "cell_type": "code",
   "execution_count": null,
   "metadata": {},
   "outputs": [],
   "source": [
    "# Fit with robust scaler for KNN best K-selection experminet\n",
    "robustscaler = RobustScaler()\n",
    "X1 = robustscaler.fit_transform(X)"
   ]
  },
  {
   "cell_type": "markdown",
   "metadata": {},
   "source": [
    "**Why KNN Imputer**?\n",
    "- KNNImputer by scikit-learn is a widely used method to impute missing values. It is widely being observed as a replacement for traditional imputation techniques.\n",
    "- KNNImputer helps to impute missing values present in the observations by finding the nearest neighbors with the Euclidean distance matrix.\n",
    "- Here we Iterates through different K values and get accuracy and choose best K values."
   ]
  },
  {
   "cell_type": "markdown",
   "metadata": {},
   "source": [
    "**Finding the optimal n_neighbour value for KNN imputer**"
   ]
  },
  {
   "cell_type": "code",
   "execution_count": null,
   "metadata": {},
   "outputs": [
    {
     "name": "stdout",
     "output_type": "stream",
     "text": [
      "n_neighbors= 1 || accuracy (0.7317)\n",
      "n_neighbors= 3 || accuracy (0.7555)\n",
      "n_neighbors= 5 || accuracy (0.7076)\n",
      "n_neighbors= 7 || accuracy (0.6810)\n",
      "n_neighbors= 9 || accuracy (0.6966)\n"
     ]
    }
   ],
   "source": [
    "results=[]\n",
    "# define imputer\n",
    "imputer = KNNImputer(n_neighbors=5, weights='uniform', metric='nan_euclidean')\n",
    "strategies = [str(i) for i in [1,3,5,7,9]]\n",
    "for s in strategies:\n",
    "    pipeline = Pipeline(steps=[('i', KNNImputer(n_neighbors=int(s))), ('m', LogisticRegression())])\n",
    "    scores = cross_val_score(pipeline, X1, y, scoring='accuracy', cv=2, n_jobs=-1)\n",
    "    results.append(scores)\n",
    "    print('n_neighbors= %s || accuracy (%.4f)' % (s , mean(scores)))"
   ]
  },
  {
   "cell_type": "markdown",
   "metadata": {},
   "source": [
    "**We can observe n_neighbors=3 able to produce highest accuracy**"
   ]
  },
  {
   "cell_type": "markdown",
   "metadata": {},
   "source": [
    "### Pipeline for KNN imputer"
   ]
  },
  {
   "cell_type": "code",
   "execution_count": null,
   "metadata": {},
   "outputs": [],
   "source": [
    "num_features = X.select_dtypes(exclude=\"object\").columns\n",
    "\n",
    "# Fit the KNN imputer with selected K-value\n",
    "knn_pipeline = Pipeline(steps=[\n",
    "    ('imputer', KNNImputer(n_neighbors=3)),\n",
    "    ('RobustScaler', RobustScaler())\n",
    "])"
   ]
  },
  {
   "cell_type": "code",
   "execution_count": null,
   "metadata": {},
   "outputs": [],
   "source": [
    "X_knn =knn_pipeline.fit_transform(X)"
   ]
  },
  {
   "cell_type": "markdown",
   "metadata": {},
   "source": [
    "## Handling Imbalanced data"
   ]
  },
  {
   "cell_type": "markdown",
   "metadata": {},
   "source": [
    " **SMOTE+TOMEK** is one of such a hybrid technique that aims to clean overlapping data points for each of the classes distributed in sample space.\n",
    " \n",
    " - This method combines the SMOTE ability to generate synthetic data for minority class and Tomek Links ability to remove the data that are identified as Tomek links from the majority class\n",
    " \n",
    " - To add new data of minority class\n",
    " 1. Choose random data from the minority class.\n",
    " 2. Calculate the distance between the random data and its k nearest neighbors.\n",
    " 3. Multiply the difference with a random number between 0 and 1, then add the result to the minority class as a synthetic sample.\n",
    " 4. Repeat step number 2–3 until the desired proportion of minority class is met.\n",
    " \n",
    " - To remove the tomek links of the majority class\n",
    " 1. Choose random data from the majority class.\n",
    " 2. If the random data’s nearest neighbor is the data from the minority class (i.e. create the Tomek Link), then remove the Tomek Link.\n",
    " \n",
    " - This is method instead of adding duplicate data it synthesises the new data based on the already avalialble classes. Hence we choose this as our imputer method for this problem."
   ]
  },
  {
   "cell_type": "code",
   "execution_count": null,
   "metadata": {},
   "outputs": [],
   "source": [
    "from imblearn.combine import SMOTETomek\n",
    "\n",
    "# Resampling the minority class. The strategy can be changed as required.\n",
    "smt = SMOTETomek(random_state=42,sampling_strategy='minority',n_jobs=-1)\n",
    "# Fit the model to generate the data.\n",
    "X_res, y_res = smt.fit_resample(X_knn, y)"
   ]
  },
  {
   "cell_type": "markdown",
   "metadata": {},
   "source": [
    "### Initialize Default Models in a dictionary"
   ]
  },
  {
   "cell_type": "code",
   "execution_count": null,
   "metadata": {},
   "outputs": [],
   "source": [
    "# Dictionary which contains models for experiment\n",
    "models = {\n",
    "    \"Random Forest\": RandomForestClassifier(),\n",
    "    \"Decision Tree\": DecisionTreeClassifier(),\n",
    "    \"Gradient Boosting\": GradientBoostingClassifier(),\n",
    "    \"Logistic Regression\": LogisticRegression(),\n",
    "     \"K-Neighbors Classifier\": KNeighborsClassifier(),\n",
    "    \"XGBClassifier\": XGBClassifier(), \n",
    "     \"CatBoosting Classifier\": CatBoostClassifier(verbose=False),\n",
    "    \"AdaBoost Classifier\": AdaBoostClassifier()\n",
    "}"
   ]
  },
  {
   "cell_type": "markdown",
   "metadata": {},
   "source": [
    "### Fit KNN imputed data for models in dictionary"
   ]
  },
  {
   "cell_type": "code",
   "execution_count": null,
   "metadata": {
    "scrolled": false
   },
   "outputs": [
    {
     "name": "stdout",
     "output_type": "stream",
     "text": [
      "Random Forest\n",
      "Model performance for Training set\n",
      "- Accuracy: 1.0000\n",
      "- F1 score: 1.0000\n",
      "- Precision: 1.0000\n",
      "- Recall: 1.0000\n",
      "- Roc Auc Score: 1.0000\n",
      "- COST: 0.\n",
      "----------------------------------\n",
      "Model performance for Test set\n",
      "- Accuracy: 0.9924\n",
      "- F1 score: 0.9925\n",
      "- Precision: 0.9883\n",
      "- Recall: 0.9967\n",
      "- Roc Auc Score: 0.9925\n",
      "- COST: 12330.\n",
      "===================================\n",
      "\n",
      "\n",
      "Decision Tree\n",
      "Model performance for Training set\n",
      "- Accuracy: 1.0000\n",
      "- F1 score: 1.0000\n",
      "- Precision: 1.0000\n",
      "- Recall: 1.0000\n",
      "- Roc Auc Score: 1.0000\n",
      "- COST: 0.\n",
      "----------------------------------\n",
      "Model performance for Test set\n",
      "- Accuracy: 0.9865\n",
      "- F1 score: 0.9866\n",
      "- Precision: 0.9815\n",
      "- Recall: 0.9917\n",
      "- Roc Auc Score: 0.9865\n",
      "- COST: 30310.\n",
      "===================================\n",
      "\n",
      "\n",
      "Gradient Boosting\n",
      "Model performance for Training set\n",
      "- Accuracy: 0.9839\n",
      "- F1 score: 0.9840\n",
      "- Precision: 0.9803\n",
      "- Recall: 0.9876\n",
      "- Roc Auc Score: 0.9839\n",
      "- COST: 179060.\n",
      "----------------------------------\n",
      "Model performance for Test set\n",
      "- Accuracy: 0.9844\n",
      "- F1 score: 0.9844\n",
      "- Precision: 0.9813\n",
      "- Recall: 0.9876\n",
      "- Roc Auc Score: 0.9844\n",
      "- COST: 44820.\n",
      "===================================\n",
      "\n",
      "\n",
      "Logistic Regression\n",
      "Model performance for Training set\n",
      "- Accuracy: 0.5886\n",
      "- F1 score: 0.6932\n",
      "- Precision: 0.5528\n",
      "- Recall: 0.9291\n",
      "- Roc Auc Score: 0.5885\n",
      "- COST: 1205980.\n",
      "----------------------------------\n",
      "Model performance for Test set\n",
      "- Accuracy: 0.5820\n",
      "- F1 score: 0.6896\n",
      "- Precision: 0.5481\n",
      "- Recall: 0.9297\n",
      "- Roc Auc Score: 0.5823\n",
      "- COST: 300230.\n",
      "===================================\n",
      "\n",
      "\n",
      "K-Neighbors Classifier\n",
      "Model performance for Training set\n",
      "- Accuracy: 0.9814\n",
      "- F1 score: 0.9816\n",
      "- Precision: 0.9707\n",
      "- Recall: 0.9927\n",
      "- Roc Auc Score: 0.9814\n",
      "- COST: 110900.\n",
      "----------------------------------\n",
      "Model performance for Test set\n",
      "- Accuracy: 0.9744\n",
      "- F1 score: 0.9748\n",
      "- Precision: 0.9605\n",
      "- Recall: 0.9894\n",
      "- Roc Auc Score: 0.9744\n",
      "- COST: 39850.\n",
      "===================================\n",
      "\n",
      "\n",
      "XGBClassifier\n",
      "Model performance for Training set\n",
      "- Accuracy: 1.0000\n",
      "- F1 score: 1.0000\n",
      "- Precision: 1.0000\n",
      "- Recall: 1.0000\n",
      "- Roc Auc Score: 1.0000\n",
      "- COST: 0.\n",
      "----------------------------------\n",
      "Model performance for Test set\n",
      "- Accuracy: 0.9962\n",
      "- F1 score: 0.9962\n",
      "- Precision: 0.9935\n",
      "- Recall: 0.9989\n",
      "- Roc Auc Score: 0.9962\n",
      "- COST: 4460.\n",
      "===================================\n",
      "\n",
      "\n",
      "CatBoosting Classifier\n",
      "Model performance for Training set\n",
      "- Accuracy: 0.9992\n",
      "- F1 score: 0.9992\n",
      "- Precision: 0.9989\n",
      "- Recall: 0.9994\n",
      "- Roc Auc Score: 0.9992\n",
      "- COST: 8800.\n",
      "----------------------------------\n",
      "Model performance for Test set\n",
      "- Accuracy: 0.9949\n",
      "- F1 score: 0.9949\n",
      "- Precision: 0.9922\n",
      "- Recall: 0.9976\n",
      "- Roc Auc Score: 0.9949\n",
      "- COST: 9050.\n",
      "===================================\n",
      "\n",
      "\n",
      "AdaBoost Classifier\n",
      "Model performance for Training set\n",
      "- Accuracy: 0.9749\n",
      "- F1 score: 0.9750\n",
      "- Precision: 0.9736\n",
      "- Recall: 0.9763\n",
      "- Roc Auc Score: 0.9749\n",
      "- COST: 339420.\n",
      "----------------------------------\n",
      "Model performance for Test set\n",
      "- Accuracy: 0.9756\n",
      "- F1 score: 0.9756\n",
      "- Precision: 0.9745\n",
      "- Recall: 0.9767\n",
      "- Roc Auc Score: 0.9756\n",
      "- COST: 83290.\n",
      "===================================\n",
      "\n",
      "\n"
     ]
    }
   ],
   "source": [
    "report_knn = evaluate_models(X_res, y_res, models)"
   ]
  },
  {
   "cell_type": "markdown",
   "metadata": {},
   "source": [
    "### Report for KNN Imputed data"
   ]
  },
  {
   "cell_type": "code",
   "execution_count": null,
   "metadata": {},
   "outputs": [
    {
     "data": {
      "text/html": [
       "<div>\n",
       "<style scoped>\n",
       "    .dataframe tbody tr th:only-of-type {\n",
       "        vertical-align: middle;\n",
       "    }\n",
       "\n",
       "    .dataframe tbody tr th {\n",
       "        vertical-align: top;\n",
       "    }\n",
       "\n",
       "    .dataframe thead th {\n",
       "        text-align: right;\n",
       "    }\n",
       "</style>\n",
       "<table border=\"1\" class=\"dataframe\">\n",
       "  <thead>\n",
       "    <tr style=\"text-align: right;\">\n",
       "      <th></th>\n",
       "      <th>Model Name</th>\n",
       "      <th>Cost</th>\n",
       "    </tr>\n",
       "  </thead>\n",
       "  <tbody>\n",
       "    <tr>\n",
       "      <th>5</th>\n",
       "      <td>XGBClassifier</td>\n",
       "      <td>4460</td>\n",
       "    </tr>\n",
       "    <tr>\n",
       "      <th>6</th>\n",
       "      <td>CatBoosting Classifier</td>\n",
       "      <td>9050</td>\n",
       "    </tr>\n",
       "    <tr>\n",
       "      <th>0</th>\n",
       "      <td>Random Forest</td>\n",
       "      <td>12330</td>\n",
       "    </tr>\n",
       "    <tr>\n",
       "      <th>1</th>\n",
       "      <td>Decision Tree</td>\n",
       "      <td>30310</td>\n",
       "    </tr>\n",
       "    <tr>\n",
       "      <th>4</th>\n",
       "      <td>K-Neighbors Classifier</td>\n",
       "      <td>39850</td>\n",
       "    </tr>\n",
       "    <tr>\n",
       "      <th>2</th>\n",
       "      <td>Gradient Boosting</td>\n",
       "      <td>44820</td>\n",
       "    </tr>\n",
       "    <tr>\n",
       "      <th>7</th>\n",
       "      <td>AdaBoost Classifier</td>\n",
       "      <td>83290</td>\n",
       "    </tr>\n",
       "    <tr>\n",
       "      <th>3</th>\n",
       "      <td>Logistic Regression</td>\n",
       "      <td>300230</td>\n",
       "    </tr>\n",
       "  </tbody>\n",
       "</table>\n",
       "</div>"
      ],
      "text/plain": [
       "               Model Name    Cost\n",
       "5           XGBClassifier    4460\n",
       "6  CatBoosting Classifier    9050\n",
       "0           Random Forest   12330\n",
       "1           Decision Tree   30310\n",
       "4  K-Neighbors Classifier   39850\n",
       "2       Gradient Boosting   44820\n",
       "7     AdaBoost Classifier   83290\n",
       "3     Logistic Regression  300230"
      ]
     },
     "execution_count": 29,
     "metadata": {},
     "output_type": "execute_result"
    }
   ],
   "source": [
    "report_knn"
   ]
  },
  {
   "cell_type": "markdown",
   "metadata": {},
   "source": [
    "**Insights**\n",
    "- For the Experiment 1: Knn imputer has XGBoost classifier as the best Model\n",
    "- Proceeding with further experiments "
   ]
  },
  {
   "cell_type": "markdown",
   "metadata": {},
   "source": [
    "### Experiment: 2 = Simple Imputer with Strategy Median "
   ]
  },
  {
   "cell_type": "markdown",
   "metadata": {},
   "source": [
    "- SimpleImputer is a class in the `sklearn.impute` module that can be used to replace missing values in a dataset, using a variety of input strategies.\n",
    "- Here we use SimpleImputer can also be used to impute multiple columns at once by passing in a list of column names. SimpleImputer will then replace missing values in all of the specified columns."
   ]
  },
  {
   "cell_type": "code",
   "execution_count": null,
   "metadata": {},
   "outputs": [],
   "source": [
    "num_features = X.select_dtypes(exclude=\"object\").columns\n",
    "\n",
    "# Fit the Simple imputer with strategy median\n",
    "median_pipeline = Pipeline(steps=[\n",
    "    ('imputer', SimpleImputer(strategy='median')),\n",
    "    ('RobustScaler', RobustScaler())\n",
    "])"
   ]
  },
  {
   "cell_type": "code",
   "execution_count": null,
   "metadata": {},
   "outputs": [],
   "source": [
    "# Fit X with median_pipeline\n",
    "X_median = median_pipeline.fit_transform(X)"
   ]
  },
  {
   "cell_type": "code",
   "execution_count": null,
   "metadata": {},
   "outputs": [],
   "source": [
    "# Resampling the minority class. The strategy can be changed as required.\n",
    "smt = SMOTETomek(random_state=42,sampling_strategy='minority')\n",
    "# Fit the model to generate the data.\n",
    "X_res, y_res = smt.fit_resample(X_median, y)"
   ]
  },
  {
   "cell_type": "code",
   "execution_count": null,
   "metadata": {
    "scrolled": false
   },
   "outputs": [
    {
     "name": "stdout",
     "output_type": "stream",
     "text": [
      "Random Forest\n",
      "Model performance for Training set\n",
      "- Accuracy: 1.0000\n",
      "- F1 score: 1.0000\n",
      "- Precision: 1.0000\n",
      "- Recall: 1.0000\n",
      "- Roc Auc Score: 1.0000\n",
      "- COST: 0.\n",
      "----------------------------------\n",
      "Model performance for Test set\n",
      "- Accuracy: 0.9917\n",
      "- F1 score: 0.9918\n",
      "- Precision: 0.9866\n",
      "- Recall: 0.9972\n",
      "- Roc Auc Score: 0.9917\n",
      "- COST: 10960.\n",
      "===================================\n",
      "\n",
      "\n",
      "Decision Tree\n",
      "Model performance for Training set\n",
      "- Accuracy: 1.0000\n",
      "- F1 score: 1.0000\n",
      "- Precision: 1.0000\n",
      "- Recall: 1.0000\n",
      "- Roc Auc Score: 1.0000\n",
      "- COST: 0.\n",
      "----------------------------------\n",
      "Model performance for Test set\n",
      "- Accuracy: 0.9852\n",
      "- F1 score: 0.9854\n",
      "- Precision: 0.9796\n",
      "- Recall: 0.9912\n",
      "- Roc Auc Score: 0.9851\n",
      "- COST: 32460.\n",
      "===================================\n",
      "\n",
      "\n",
      "Gradient Boosting\n",
      "Model performance for Training set\n",
      "- Accuracy: 0.9840\n",
      "- F1 score: 0.9840\n",
      "- Precision: 0.9813\n",
      "- Recall: 0.9867\n",
      "- Roc Auc Score: 0.9840\n",
      "- COST: 190760.\n",
      "----------------------------------\n",
      "Model performance for Test set\n",
      "- Accuracy: 0.9810\n",
      "- F1 score: 0.9812\n",
      "- Precision: 0.9757\n",
      "- Recall: 0.9868\n",
      "- Roc Auc Score: 0.9809\n",
      "- COST: 48240.\n",
      "===================================\n",
      "\n",
      "\n",
      "Logistic Regression\n",
      "Model performance for Training set\n",
      "- Accuracy: 0.6300\n",
      "- F1 score: 0.7147\n",
      "- Precision: 0.5807\n",
      "- Recall: 0.9289\n",
      "- Roc Auc Score: 0.6306\n",
      "- COST: 1181600.\n",
      "----------------------------------\n",
      "Model performance for Test set\n",
      "- Accuracy: 0.6264\n",
      "- F1 score: 0.7145\n",
      "- Precision: 0.5813\n",
      "- Recall: 0.9269\n",
      "- Roc Auc Score: 0.6237\n",
      "- COST: 305700.\n",
      "===================================\n",
      "\n",
      "\n",
      "K-Neighbors Classifier\n",
      "Model performance for Training set\n",
      "- Accuracy: 0.9789\n",
      "- F1 score: 0.9791\n",
      "- Precision: 0.9683\n",
      "- Recall: 0.9902\n",
      "- Roc Auc Score: 0.9789\n",
      "- COST: 146570.\n",
      "----------------------------------\n",
      "Model performance for Test set\n",
      "- Accuracy: 0.9718\n",
      "- F1 score: 0.9724\n",
      "- Precision: 0.9596\n",
      "- Recall: 0.9854\n",
      "- Roc Auc Score: 0.9716\n",
      "- COST: 54430.\n",
      "===================================\n",
      "\n",
      "\n",
      "XGBClassifier\n",
      "Model performance for Training set\n",
      "- Accuracy: 1.0000\n",
      "- F1 score: 1.0000\n",
      "- Precision: 1.0000\n",
      "- Recall: 1.0000\n",
      "- Roc Auc Score: 1.0000\n",
      "- COST: 500.\n",
      "----------------------------------\n",
      "Model performance for Test set\n",
      "- Accuracy: 0.9951\n",
      "- F1 score: 0.9951\n",
      "- Precision: 0.9920\n",
      "- Recall: 0.9983\n",
      "- Roc Auc Score: 0.9950\n",
      "- COST: 6570.\n",
      "===================================\n",
      "\n",
      "\n",
      "CatBoosting Classifier\n",
      "Model performance for Training set\n",
      "- Accuracy: 0.9996\n",
      "- F1 score: 0.9996\n",
      "- Precision: 0.9996\n",
      "- Recall: 0.9995\n",
      "- Roc Auc Score: 0.9996\n",
      "- COST: 7110.\n",
      "----------------------------------\n",
      "Model performance for Test set\n",
      "- Accuracy: 0.9939\n",
      "- F1 score: 0.9939\n",
      "- Precision: 0.9894\n",
      "- Recall: 0.9986\n",
      "- Roc Auc Score: 0.9938\n",
      "- COST: 5760.\n",
      "===================================\n",
      "\n",
      "\n",
      "AdaBoost Classifier\n",
      "Model performance for Training set\n",
      "- Accuracy: 0.9749\n",
      "- F1 score: 0.9749\n",
      "- Precision: 0.9740\n",
      "- Recall: 0.9757\n",
      "- Roc Auc Score: 0.9749\n",
      "- COST: 346790.\n",
      "----------------------------------\n",
      "Model performance for Test set\n",
      "- Accuracy: 0.9727\n",
      "- F1 score: 0.9731\n",
      "- Precision: 0.9702\n",
      "- Recall: 0.9760\n",
      "- Roc Auc Score: 0.9727\n",
      "- COST: 87120.\n",
      "===================================\n",
      "\n",
      "\n"
     ]
    }
   ],
   "source": [
    "# Training the models\n",
    "report_median = evaluate_models(X_res, y_res, models)"
   ]
  },
  {
   "cell_type": "markdown",
   "metadata": {},
   "source": [
    "## Report for Simple Imputer with median strategy"
   ]
  },
  {
   "cell_type": "code",
   "execution_count": null,
   "metadata": {},
   "outputs": [
    {
     "data": {
      "text/html": [
       "<div>\n",
       "<style scoped>\n",
       "    .dataframe tbody tr th:only-of-type {\n",
       "        vertical-align: middle;\n",
       "    }\n",
       "\n",
       "    .dataframe tbody tr th {\n",
       "        vertical-align: top;\n",
       "    }\n",
       "\n",
       "    .dataframe thead th {\n",
       "        text-align: right;\n",
       "    }\n",
       "</style>\n",
       "<table border=\"1\" class=\"dataframe\">\n",
       "  <thead>\n",
       "    <tr style=\"text-align: right;\">\n",
       "      <th></th>\n",
       "      <th>Model Name</th>\n",
       "      <th>Cost</th>\n",
       "    </tr>\n",
       "  </thead>\n",
       "  <tbody>\n",
       "    <tr>\n",
       "      <th>6</th>\n",
       "      <td>CatBoosting Classifier</td>\n",
       "      <td>5760</td>\n",
       "    </tr>\n",
       "    <tr>\n",
       "      <th>5</th>\n",
       "      <td>XGBClassifier</td>\n",
       "      <td>6570</td>\n",
       "    </tr>\n",
       "    <tr>\n",
       "      <th>0</th>\n",
       "      <td>Random Forest</td>\n",
       "      <td>10960</td>\n",
       "    </tr>\n",
       "    <tr>\n",
       "      <th>1</th>\n",
       "      <td>Decision Tree</td>\n",
       "      <td>32460</td>\n",
       "    </tr>\n",
       "    <tr>\n",
       "      <th>2</th>\n",
       "      <td>Gradient Boosting</td>\n",
       "      <td>48240</td>\n",
       "    </tr>\n",
       "    <tr>\n",
       "      <th>4</th>\n",
       "      <td>K-Neighbors Classifier</td>\n",
       "      <td>54430</td>\n",
       "    </tr>\n",
       "    <tr>\n",
       "      <th>7</th>\n",
       "      <td>AdaBoost Classifier</td>\n",
       "      <td>87120</td>\n",
       "    </tr>\n",
       "    <tr>\n",
       "      <th>3</th>\n",
       "      <td>Logistic Regression</td>\n",
       "      <td>305700</td>\n",
       "    </tr>\n",
       "  </tbody>\n",
       "</table>\n",
       "</div>"
      ],
      "text/plain": [
       "               Model Name    Cost\n",
       "6  CatBoosting Classifier    5760\n",
       "5           XGBClassifier    6570\n",
       "0           Random Forest   10960\n",
       "1           Decision Tree   32460\n",
       "2       Gradient Boosting   48240\n",
       "4  K-Neighbors Classifier   54430\n",
       "7     AdaBoost Classifier   87120\n",
       "3     Logistic Regression  305700"
      ]
     },
     "execution_count": 34,
     "metadata": {},
     "output_type": "execute_result"
    }
   ],
   "source": [
    "report_median"
   ]
  },
  {
   "cell_type": "markdown",
   "metadata": {},
   "source": [
    "**Insights**\n",
    "- For the Experiment 2: Simple imputer with median strategy has Catboost classifier as the best Model\n",
    "- Proceeding with further experiments "
   ]
  },
  {
   "cell_type": "markdown",
   "metadata": {},
   "source": [
    "### Experiment: 3 = MICE for Imputing Null values"
   ]
  },
  {
   "cell_type": "markdown",
   "metadata": {},
   "source": [
    "- MICE stands for Multivariate Imputation By Chained Equations algorithm\n",
    "- This technique by which we can effortlessly impute missing values in a dataset by looking at data from other columns and trying to estimate the best prediction for each missing value.\n",
    "- `ImputationKernel` Creates a kernel dataset. This dataset can perform MICE on itself, and impute new data from models obtained during MICE."
   ]
  },
  {
   "cell_type": "code",
   "execution_count": null,
   "metadata": {},
   "outputs": [],
   "source": [
    "import miceforest as mf\n",
    "\n",
    "X_mice = X.copy()\n",
    "kernel = mf.ImputationKernel(\n",
    "  X_mice,\n",
    "  save_all_iterations=True,\n",
    "  random_state=1989\n",
    ")# Run the MICE algorithm for 3 iterations kernel.mice(3)"
   ]
  },
  {
   "cell_type": "code",
   "execution_count": null,
   "metadata": {},
   "outputs": [],
   "source": [
    "X_mice = kernel.complete_data()"
   ]
  },
  {
   "cell_type": "code",
   "execution_count": null,
   "metadata": {},
   "outputs": [],
   "source": [
    "# fit robust scaler\n",
    "mice_pipeline = Pipeline(steps=[\n",
    "    ('RobustScaler', RobustScaler())\n",
    "])"
   ]
  },
  {
   "cell_type": "code",
   "execution_count": null,
   "metadata": {},
   "outputs": [],
   "source": [
    "# Fit X with Mice imputer \n",
    "X_mice= mice_pipeline.fit_transform(X_mice)"
   ]
  },
  {
   "cell_type": "code",
   "execution_count": null,
   "metadata": {},
   "outputs": [],
   "source": [
    "# Resampling the minority class. The strategy can be changed as required.\n",
    "smt = SMOTETomek(random_state=42,sampling_strategy='minority', n_jobs=-1 )\n",
    "# Fit the model to generate the data.\n",
    "X_res, y_res = smt.fit_resample(X_mice, y)"
   ]
  },
  {
   "cell_type": "code",
   "execution_count": null,
   "metadata": {
    "scrolled": false
   },
   "outputs": [
    {
     "name": "stdout",
     "output_type": "stream",
     "text": [
      "Random Forest\n",
      "Model performance for Training set\n",
      "- Accuracy: 1.0000\n",
      "- F1 score: 1.0000\n",
      "- Precision: 1.0000\n",
      "- Recall: 1.0000\n",
      "- Roc Auc Score: 1.0000\n",
      "- COST: 0.\n",
      "----------------------------------\n",
      "Model performance for Test set\n",
      "- Accuracy: 0.9920\n",
      "- F1 score: 0.9921\n",
      "- Precision: 0.9880\n",
      "- Recall: 0.9962\n",
      "- Roc Auc Score: 0.9920\n",
      "- COST: 14350.\n",
      "===================================\n",
      "\n",
      "\n",
      "Decision Tree\n",
      "Model performance for Training set\n",
      "- Accuracy: 1.0000\n",
      "- F1 score: 1.0000\n",
      "- Precision: 1.0000\n",
      "- Recall: 1.0000\n",
      "- Roc Auc Score: 1.0000\n",
      "- COST: 0.\n",
      "----------------------------------\n",
      "Model performance for Test set\n",
      "- Accuracy: 0.9822\n",
      "- F1 score: 0.9824\n",
      "- Precision: 0.9783\n",
      "- Recall: 0.9865\n",
      "- Roc Auc Score: 0.9822\n",
      "- COST: 49040.\n",
      "===================================\n",
      "\n",
      "\n",
      "Gradient Boosting\n",
      "Model performance for Training set\n",
      "- Accuracy: 0.9854\n",
      "- F1 score: 0.9854\n",
      "- Precision: 0.9825\n",
      "- Recall: 0.9884\n",
      "- Roc Auc Score: 0.9854\n",
      "- COST: 166940.\n",
      "----------------------------------\n",
      "Model performance for Test set\n",
      "- Accuracy: 0.9813\n",
      "- F1 score: 0.9815\n",
      "- Precision: 0.9772\n",
      "- Recall: 0.9858\n",
      "- Roc Auc Score: 0.9813\n",
      "- COST: 51620.\n",
      "===================================\n",
      "\n",
      "\n",
      "Logistic Regression\n",
      "Model performance for Training set\n",
      "- Accuracy: 0.6272\n",
      "- F1 score: 0.7191\n",
      "- Precision: 0.5766\n",
      "- Recall: 0.9551\n",
      "- Roc Auc Score: 0.6276\n",
      "- COST: 826010.\n",
      "----------------------------------\n",
      "Model performance for Test set\n",
      "- Accuracy: 0.6200\n",
      "- F1 score: 0.7160\n",
      "- Precision: 0.5729\n",
      "- Recall: 0.9545\n",
      "- Roc Auc Score: 0.6187\n",
      "- COST: 210090.\n",
      "===================================\n",
      "\n",
      "\n",
      "K-Neighbors Classifier\n",
      "Model performance for Training set\n",
      "- Accuracy: 0.9792\n",
      "- F1 score: 0.9795\n",
      "- Precision: 0.9677\n",
      "- Recall: 0.9915\n",
      "- Roc Auc Score: 0.9792\n",
      "- COST: 128270.\n",
      "----------------------------------\n",
      "Model performance for Test set\n",
      "- Accuracy: 0.9704\n",
      "- F1 score: 0.9710\n",
      "- Precision: 0.9566\n",
      "- Recall: 0.9858\n",
      "- Roc Auc Score: 0.9703\n",
      "- COST: 53150.\n",
      "===================================\n",
      "\n",
      "\n",
      "XGBClassifier\n",
      "Model performance for Training set\n",
      "- Accuracy: 1.0000\n",
      "- F1 score: 1.0000\n",
      "- Precision: 1.0000\n",
      "- Recall: 1.0000\n",
      "- Roc Auc Score: 1.0000\n",
      "- COST: 0.\n",
      "----------------------------------\n",
      "Model performance for Test set\n",
      "- Accuracy: 0.9959\n",
      "- F1 score: 0.9960\n",
      "- Precision: 0.9928\n",
      "- Recall: 0.9991\n",
      "- Roc Auc Score: 0.9959\n",
      "- COST: 3510.\n",
      "===================================\n",
      "\n",
      "\n",
      "CatBoosting Classifier\n",
      "Model performance for Training set\n",
      "- Accuracy: 0.9996\n",
      "- F1 score: 0.9996\n",
      "- Precision: 0.9997\n",
      "- Recall: 0.9995\n",
      "- Roc Auc Score: 0.9996\n",
      "- COST: 6580.\n",
      "----------------------------------\n",
      "Model performance for Test set\n",
      "- Accuracy: 0.9940\n",
      "- F1 score: 0.9941\n",
      "- Precision: 0.9903\n",
      "- Recall: 0.9979\n",
      "- Roc Auc Score: 0.9940\n",
      "- COST: 8190.\n",
      "===================================\n",
      "\n",
      "\n",
      "AdaBoost Classifier\n",
      "Model performance for Training set\n",
      "- Accuracy: 0.9758\n",
      "- F1 score: 0.9758\n",
      "- Precision: 0.9769\n",
      "- Recall: 0.9746\n",
      "- Roc Auc Score: 0.9758\n",
      "- COST: 361950.\n",
      "----------------------------------\n",
      "Model performance for Test set\n",
      "- Accuracy: 0.9742\n",
      "- F1 score: 0.9743\n",
      "- Precision: 0.9746\n",
      "- Recall: 0.9740\n",
      "- Roc Auc Score: 0.9742\n",
      "- COST: 93290.\n",
      "===================================\n",
      "\n",
      "\n"
     ]
    }
   ],
   "source": [
    "# Training the models\n",
    "report_mice = evaluate_models(X_res, y_res, models)"
   ]
  },
  {
   "cell_type": "markdown",
   "metadata": {},
   "source": [
    "## Report for MICE Imputer algorithm"
   ]
  },
  {
   "cell_type": "code",
   "execution_count": null,
   "metadata": {},
   "outputs": [
    {
     "data": {
      "text/html": [
       "<div>\n",
       "<style scoped>\n",
       "    .dataframe tbody tr th:only-of-type {\n",
       "        vertical-align: middle;\n",
       "    }\n",
       "\n",
       "    .dataframe tbody tr th {\n",
       "        vertical-align: top;\n",
       "    }\n",
       "\n",
       "    .dataframe thead th {\n",
       "        text-align: right;\n",
       "    }\n",
       "</style>\n",
       "<table border=\"1\" class=\"dataframe\">\n",
       "  <thead>\n",
       "    <tr style=\"text-align: right;\">\n",
       "      <th></th>\n",
       "      <th>Model Name</th>\n",
       "      <th>Cost</th>\n",
       "    </tr>\n",
       "  </thead>\n",
       "  <tbody>\n",
       "    <tr>\n",
       "      <th>5</th>\n",
       "      <td>XGBClassifier</td>\n",
       "      <td>3510</td>\n",
       "    </tr>\n",
       "    <tr>\n",
       "      <th>6</th>\n",
       "      <td>CatBoosting Classifier</td>\n",
       "      <td>8190</td>\n",
       "    </tr>\n",
       "    <tr>\n",
       "      <th>0</th>\n",
       "      <td>Random Forest</td>\n",
       "      <td>14350</td>\n",
       "    </tr>\n",
       "    <tr>\n",
       "      <th>1</th>\n",
       "      <td>Decision Tree</td>\n",
       "      <td>49040</td>\n",
       "    </tr>\n",
       "    <tr>\n",
       "      <th>2</th>\n",
       "      <td>Gradient Boosting</td>\n",
       "      <td>51620</td>\n",
       "    </tr>\n",
       "    <tr>\n",
       "      <th>4</th>\n",
       "      <td>K-Neighbors Classifier</td>\n",
       "      <td>53150</td>\n",
       "    </tr>\n",
       "    <tr>\n",
       "      <th>7</th>\n",
       "      <td>AdaBoost Classifier</td>\n",
       "      <td>93290</td>\n",
       "    </tr>\n",
       "    <tr>\n",
       "      <th>3</th>\n",
       "      <td>Logistic Regression</td>\n",
       "      <td>210090</td>\n",
       "    </tr>\n",
       "  </tbody>\n",
       "</table>\n",
       "</div>"
      ],
      "text/plain": [
       "               Model Name    Cost\n",
       "5           XGBClassifier    3510\n",
       "6  CatBoosting Classifier    8190\n",
       "0           Random Forest   14350\n",
       "1           Decision Tree   49040\n",
       "2       Gradient Boosting   51620\n",
       "4  K-Neighbors Classifier   53150\n",
       "7     AdaBoost Classifier   93290\n",
       "3     Logistic Regression  210090"
      ]
     },
     "execution_count": 41,
     "metadata": {},
     "output_type": "execute_result"
    }
   ],
   "source": [
    "report_mice"
   ]
  },
  {
   "cell_type": "markdown",
   "metadata": {},
   "source": [
    "**Insights**\n",
    "- For the Experiment 3: Mice imputer has XGBoost classifier as the best Model\n",
    "- Proceeding with further experiments "
   ]
  },
  {
   "cell_type": "markdown",
   "metadata": {},
   "source": [
    "### Experiment: 4 = Simple Imputer with Strategy Constant "
   ]
  },
  {
   "cell_type": "markdown",
   "metadata": {},
   "source": [
    "- Another strategy which can be used is replacing missing values with a fixed (constant) value.\n",
    "- To do this, specify “constant” for strategy and specify the fill value using the fill_value parameter"
   ]
  },
  {
   "cell_type": "code",
   "execution_count": null,
   "metadata": {},
   "outputs": [],
   "source": [
    "# Create a pipeline with simple imputer with strategy constant and fill value 0\n",
    "constant_pipeline = Pipeline(steps=[\n",
    "    ('Imputer', SimpleImputer(strategy='constant', fill_value=0)),\n",
    "    ('RobustScaler', RobustScaler())\n",
    "])"
   ]
  },
  {
   "cell_type": "code",
   "execution_count": null,
   "metadata": {},
   "outputs": [],
   "source": [
    "X_const =constant_pipeline.fit_transform(X)"
   ]
  },
  {
   "cell_type": "code",
   "execution_count": null,
   "metadata": {},
   "outputs": [],
   "source": [
    "# Resampling the minority class. The strategy can be changed as required.\n",
    "smt = SMOTETomek(random_state=42,sampling_strategy='minority', n_jobs=-1 )\n",
    "# Fit the model to generate the data.\n",
    "X_res, y_res = smt.fit_resample(X_const, y)"
   ]
  },
  {
   "cell_type": "code",
   "execution_count": null,
   "metadata": {
    "scrolled": false
   },
   "outputs": [
    {
     "name": "stdout",
     "output_type": "stream",
     "text": [
      "Random Forest\n",
      "Model performance for Training set\n",
      "- Accuracy: 1.0000\n",
      "- F1 score: 1.0000\n",
      "- Precision: 1.0000\n",
      "- Recall: 1.0000\n",
      "- Roc Auc Score: 1.0000\n",
      "- COST: 0.\n",
      "----------------------------------\n",
      "Model performance for Test set\n",
      "- Accuracy: 0.9933\n",
      "- F1 score: 0.9933\n",
      "- Precision: 0.9894\n",
      "- Recall: 0.9973\n",
      "- Roc Auc Score: 0.9933\n",
      "- COST: 10250.\n",
      "===================================\n",
      "\n",
      "\n",
      "Decision Tree\n",
      "Model performance for Training set\n",
      "- Accuracy: 1.0000\n",
      "- F1 score: 1.0000\n",
      "- Precision: 1.0000\n",
      "- Recall: 1.0000\n",
      "- Roc Auc Score: 1.0000\n",
      "- COST: 0.\n",
      "----------------------------------\n",
      "Model performance for Test set\n",
      "- Accuracy: 0.9882\n",
      "- F1 score: 0.9883\n",
      "- Precision: 0.9831\n",
      "- Recall: 0.9936\n",
      "- Roc Auc Score: 0.9882\n",
      "- COST: 23700.\n",
      "===================================\n",
      "\n",
      "\n",
      "Gradient Boosting\n",
      "Model performance for Training set\n",
      "- Accuracy: 0.9829\n",
      "- F1 score: 0.9829\n",
      "- Precision: 0.9799\n",
      "- Recall: 0.9860\n",
      "- Roc Auc Score: 0.9829\n",
      "- COST: 201670.\n",
      "----------------------------------\n",
      "Model performance for Test set\n",
      "- Accuracy: 0.9806\n",
      "- F1 score: 0.9807\n",
      "- Precision: 0.9774\n",
      "- Recall: 0.9841\n",
      "- Roc Auc Score: 0.9806\n",
      "- COST: 57600.\n",
      "===================================\n",
      "\n",
      "\n",
      "Logistic Regression\n",
      "Model performance for Training set\n",
      "- Accuracy: 0.6710\n",
      "- F1 score: 0.7482\n",
      "- Precision: 0.6057\n",
      "- Recall: 0.9784\n",
      "- Roc Auc Score: 0.6712\n",
      "- COST: 481530.\n",
      "----------------------------------\n",
      "Model performance for Test set\n",
      "- Accuracy: 0.6702\n",
      "- F1 score: 0.7487\n",
      "- Precision: 0.6058\n",
      "- Recall: 0.9800\n",
      "- Roc Auc Score: 0.6693\n",
      "- COST: 115350.\n",
      "===================================\n",
      "\n",
      "\n",
      "K-Neighbors Classifier\n",
      "Model performance for Training set\n",
      "- Accuracy: 0.9803\n",
      "- F1 score: 0.9805\n",
      "- Precision: 0.9682\n",
      "- Recall: 0.9932\n",
      "- Roc Auc Score: 0.9803\n",
      "- COST: 105130.\n",
      "----------------------------------\n",
      "Model performance for Test set\n",
      "- Accuracy: 0.9750\n",
      "- F1 score: 0.9754\n",
      "- Precision: 0.9626\n",
      "- Recall: 0.9885\n",
      "- Roc Auc Score: 0.9749\n",
      "- COST: 43200.\n",
      "===================================\n",
      "\n",
      "\n",
      "XGBClassifier\n",
      "Model performance for Training set\n",
      "- Accuracy: 1.0000\n",
      "- F1 score: 1.0000\n",
      "- Precision: 1.0000\n",
      "- Recall: 1.0000\n",
      "- Roc Auc Score: 1.0000\n",
      "- COST: 500.\n",
      "----------------------------------\n",
      "Model performance for Test set\n",
      "- Accuracy: 0.9964\n",
      "- F1 score: 0.9965\n",
      "- Precision: 0.9936\n",
      "- Recall: 0.9993\n",
      "- Roc Auc Score: 0.9964\n",
      "- COST: 2950.\n",
      "===================================\n",
      "\n",
      "\n",
      "CatBoosting Classifier\n",
      "Model performance for Training set\n",
      "- Accuracy: 0.9991\n",
      "- F1 score: 0.9991\n",
      "- Precision: 0.9991\n",
      "- Recall: 0.9992\n",
      "- Roc Auc Score: 0.9991\n",
      "- COST: 11750.\n",
      "----------------------------------\n",
      "Model performance for Test set\n",
      "- Accuracy: 0.9961\n",
      "- F1 score: 0.9961\n",
      "- Precision: 0.9934\n",
      "- Recall: 0.9989\n",
      "- Roc Auc Score: 0.9961\n",
      "- COST: 4470.\n",
      "===================================\n",
      "\n",
      "\n",
      "AdaBoost Classifier\n",
      "Model performance for Training set\n",
      "- Accuracy: 0.9735\n",
      "- F1 score: 0.9735\n",
      "- Precision: 0.9731\n",
      "- Recall: 0.9739\n",
      "- Roc Auc Score: 0.9735\n",
      "- COST: 374050.\n",
      "----------------------------------\n",
      "Model performance for Test set\n",
      "- Accuracy: 0.9734\n",
      "- F1 score: 0.9735\n",
      "- Precision: 0.9745\n",
      "- Recall: 0.9724\n",
      "- Roc Auc Score: 0.9734\n",
      "- COST: 98790.\n",
      "===================================\n",
      "\n",
      "\n"
     ]
    }
   ],
   "source": [
    "# training the models\n",
    "report_const = evaluate_models(X_res, y_res, models)"
   ]
  },
  {
   "cell_type": "markdown",
   "metadata": {},
   "source": [
    "## Report for Simple Imputer with Constant strategy"
   ]
  },
  {
   "cell_type": "code",
   "execution_count": null,
   "metadata": {},
   "outputs": [
    {
     "data": {
      "text/html": [
       "<div>\n",
       "<style scoped>\n",
       "    .dataframe tbody tr th:only-of-type {\n",
       "        vertical-align: middle;\n",
       "    }\n",
       "\n",
       "    .dataframe tbody tr th {\n",
       "        vertical-align: top;\n",
       "    }\n",
       "\n",
       "    .dataframe thead th {\n",
       "        text-align: right;\n",
       "    }\n",
       "</style>\n",
       "<table border=\"1\" class=\"dataframe\">\n",
       "  <thead>\n",
       "    <tr style=\"text-align: right;\">\n",
       "      <th></th>\n",
       "      <th>Model Name</th>\n",
       "      <th>Cost</th>\n",
       "    </tr>\n",
       "  </thead>\n",
       "  <tbody>\n",
       "    <tr>\n",
       "      <th>5</th>\n",
       "      <td>XGBClassifier</td>\n",
       "      <td>2950</td>\n",
       "    </tr>\n",
       "    <tr>\n",
       "      <th>6</th>\n",
       "      <td>CatBoosting Classifier</td>\n",
       "      <td>4470</td>\n",
       "    </tr>\n",
       "    <tr>\n",
       "      <th>0</th>\n",
       "      <td>Random Forest</td>\n",
       "      <td>10250</td>\n",
       "    </tr>\n",
       "    <tr>\n",
       "      <th>1</th>\n",
       "      <td>Decision Tree</td>\n",
       "      <td>23700</td>\n",
       "    </tr>\n",
       "    <tr>\n",
       "      <th>4</th>\n",
       "      <td>K-Neighbors Classifier</td>\n",
       "      <td>43200</td>\n",
       "    </tr>\n",
       "    <tr>\n",
       "      <th>2</th>\n",
       "      <td>Gradient Boosting</td>\n",
       "      <td>57600</td>\n",
       "    </tr>\n",
       "    <tr>\n",
       "      <th>7</th>\n",
       "      <td>AdaBoost Classifier</td>\n",
       "      <td>98790</td>\n",
       "    </tr>\n",
       "    <tr>\n",
       "      <th>3</th>\n",
       "      <td>Logistic Regression</td>\n",
       "      <td>115350</td>\n",
       "    </tr>\n",
       "  </tbody>\n",
       "</table>\n",
       "</div>"
      ],
      "text/plain": [
       "               Model Name    Cost\n",
       "5           XGBClassifier    2950\n",
       "6  CatBoosting Classifier    4470\n",
       "0           Random Forest   10250\n",
       "1           Decision Tree   23700\n",
       "4  K-Neighbors Classifier   43200\n",
       "2       Gradient Boosting   57600\n",
       "7     AdaBoost Classifier   98790\n",
       "3     Logistic Regression  115350"
      ]
     },
     "execution_count": 47,
     "metadata": {},
     "output_type": "execute_result"
    }
   ],
   "source": [
    "report_const"
   ]
  },
  {
   "cell_type": "markdown",
   "metadata": {},
   "source": [
    "**Insights**\n",
    "- For the Experiment 4: Simple imputer with constant strategy has XGBoost classifier as the best Model\n",
    "- Proceeding with further experiments "
   ]
  },
  {
   "cell_type": "markdown",
   "metadata": {},
   "source": [
    "## Experiment: 5 = Simple Imputer with Strategy Mean \n",
    "\n",
    "- Another strategy which can be used is replacing missing values with mean\n",
    "- Here we replace the missing values with the mean of the column"
   ]
  },
  {
   "cell_type": "code",
   "execution_count": null,
   "metadata": {},
   "outputs": [],
   "source": [
    "# Create a pipeline with Simple imputer with strategy mean\n",
    "mean_pipeline = Pipeline(steps=[\n",
    "    ('Imputer', SimpleImputer(strategy='mean')),\n",
    "    ('RobustScaler', RobustScaler())\n",
    "])"
   ]
  },
  {
   "cell_type": "code",
   "execution_count": null,
   "metadata": {},
   "outputs": [],
   "source": [
    "X_mean = mean_pipeline.fit_transform(X)"
   ]
  },
  {
   "cell_type": "code",
   "execution_count": null,
   "metadata": {},
   "outputs": [],
   "source": [
    "# Resampling the minority class. The strategy can be changed as required.\n",
    "smt = SMOTETomek(random_state=42,sampling_strategy='minority' , n_jobs=-1)\n",
    "# Fit the model to generate the data.\n",
    "X_res, y_res = smt.fit_resample(X_mean, y)"
   ]
  },
  {
   "cell_type": "code",
   "execution_count": null,
   "metadata": {
    "scrolled": false
   },
   "outputs": [
    {
     "name": "stdout",
     "output_type": "stream",
     "text": [
      "Random Forest\n",
      "Model performance for Training set\n",
      "- Accuracy: 1.0000\n",
      "- F1 score: 1.0000\n",
      "- Precision: 1.0000\n",
      "- Recall: 1.0000\n",
      "- Roc Auc Score: 1.0000\n",
      "- COST: 0.\n",
      "----------------------------------\n",
      "Model performance for Test set\n",
      "- Accuracy: 0.9945\n",
      "- F1 score: 0.9945\n",
      "- Precision: 0.9910\n",
      "- Recall: 0.9980\n",
      "- Roc Auc Score: 0.9944\n",
      "- COST: 7640.\n",
      "===================================\n",
      "\n",
      "\n",
      "Decision Tree\n",
      "Model performance for Training set\n",
      "- Accuracy: 1.0000\n",
      "- F1 score: 1.0000\n",
      "- Precision: 1.0000\n",
      "- Recall: 1.0000\n",
      "- Roc Auc Score: 1.0000\n",
      "- COST: 0.\n",
      "----------------------------------\n",
      "Model performance for Test set\n",
      "- Accuracy: 0.9893\n",
      "- F1 score: 0.9894\n",
      "- Precision: 0.9867\n",
      "- Recall: 0.9921\n",
      "- Roc Auc Score: 0.9893\n",
      "- COST: 28940.\n",
      "===================================\n",
      "\n",
      "\n",
      "Gradient Boosting\n",
      "Model performance for Training set\n",
      "- Accuracy: 0.9839\n",
      "- F1 score: 0.9839\n",
      "- Precision: 0.9810\n",
      "- Recall: 0.9868\n",
      "- Roc Auc Score: 0.9839\n",
      "- COST: 190870.\n",
      "----------------------------------\n",
      "Model performance for Test set\n",
      "- Accuracy: 0.9812\n",
      "- F1 score: 0.9813\n",
      "- Precision: 0.9771\n",
      "- Recall: 0.9855\n",
      "- Roc Auc Score: 0.9812\n",
      "- COST: 52630.\n",
      "===================================\n",
      "\n",
      "\n",
      "Logistic Regression\n",
      "Model performance for Training set\n",
      "- Accuracy: 0.9533\n",
      "- F1 score: 0.9524\n",
      "- Precision: 0.9711\n",
      "- Recall: 0.9344\n",
      "- Roc Auc Score: 0.9533\n",
      "- COST: 930810.\n",
      "----------------------------------\n",
      "Model performance for Test set\n",
      "- Accuracy: 0.9539\n",
      "- F1 score: 0.9532\n",
      "- Precision: 0.9694\n",
      "- Recall: 0.9376\n",
      "- Roc Auc Score: 0.9539\n",
      "- COST: 222090.\n",
      "===================================\n",
      "\n",
      "\n",
      "K-Neighbors Classifier\n",
      "Model performance for Training set\n",
      "- Accuracy: 0.9868\n",
      "- F1 score: 0.9869\n",
      "- Precision: 0.9754\n",
      "- Recall: 0.9988\n",
      "- Roc Auc Score: 0.9868\n",
      "- COST: 24580.\n",
      "----------------------------------\n",
      "Model performance for Test set\n",
      "- Accuracy: 0.9837\n",
      "- F1 score: 0.9840\n",
      "- Precision: 0.9701\n",
      "- Recall: 0.9983\n",
      "- Roc Auc Score: 0.9837\n",
      "- COST: 8170.\n",
      "===================================\n",
      "\n",
      "\n",
      "XGBClassifier\n",
      "Model performance for Training set\n",
      "- Accuracy: 1.0000\n",
      "- F1 score: 1.0000\n",
      "- Precision: 1.0000\n",
      "- Recall: 1.0000\n",
      "- Roc Auc Score: 1.0000\n",
      "- COST: 500.\n",
      "----------------------------------\n",
      "Model performance for Test set\n",
      "- Accuracy: 0.9962\n",
      "- F1 score: 0.9962\n",
      "- Precision: 0.9936\n",
      "- Recall: 0.9987\n",
      "- Roc Auc Score: 0.9962\n",
      "- COST: 4950.\n",
      "===================================\n",
      "\n",
      "\n",
      "CatBoosting Classifier\n",
      "Model performance for Training set\n",
      "- Accuracy: 0.9993\n",
      "- F1 score: 0.9993\n",
      "- Precision: 0.9991\n",
      "- Recall: 0.9994\n",
      "- Roc Auc Score: 0.9993\n",
      "- COST: 9240.\n",
      "----------------------------------\n",
      "Model performance for Test set\n",
      "- Accuracy: 0.9947\n",
      "- F1 score: 0.9948\n",
      "- Precision: 0.9915\n",
      "- Recall: 0.9980\n",
      "- Roc Auc Score: 0.9947\n",
      "- COST: 7600.\n",
      "===================================\n",
      "\n",
      "\n",
      "AdaBoost Classifier\n",
      "Model performance for Training set\n",
      "- Accuracy: 0.9746\n",
      "- F1 score: 0.9746\n",
      "- Precision: 0.9754\n",
      "- Recall: 0.9737\n",
      "- Roc Auc Score: 0.9746\n",
      "- COST: 376900.\n",
      "----------------------------------\n",
      "Model performance for Test set\n",
      "- Accuracy: 0.9746\n",
      "- F1 score: 0.9746\n",
      "- Precision: 0.9745\n",
      "- Recall: 0.9748\n",
      "- Roc Auc Score: 0.9746\n",
      "- COST: 90800.\n",
      "===================================\n",
      "\n",
      "\n"
     ]
    }
   ],
   "source": [
    "# Training all models\n",
    "report_mean = evaluate_models(X_res, y_res, models)"
   ]
  },
  {
   "cell_type": "markdown",
   "metadata": {},
   "source": [
    "### Report for Simple imputer with strategy mean"
   ]
  },
  {
   "cell_type": "code",
   "execution_count": null,
   "metadata": {},
   "outputs": [
    {
     "data": {
      "text/html": [
       "<div>\n",
       "<style scoped>\n",
       "    .dataframe tbody tr th:only-of-type {\n",
       "        vertical-align: middle;\n",
       "    }\n",
       "\n",
       "    .dataframe tbody tr th {\n",
       "        vertical-align: top;\n",
       "    }\n",
       "\n",
       "    .dataframe thead th {\n",
       "        text-align: right;\n",
       "    }\n",
       "</style>\n",
       "<table border=\"1\" class=\"dataframe\">\n",
       "  <thead>\n",
       "    <tr style=\"text-align: right;\">\n",
       "      <th></th>\n",
       "      <th>Model Name</th>\n",
       "      <th>Cost</th>\n",
       "    </tr>\n",
       "  </thead>\n",
       "  <tbody>\n",
       "    <tr>\n",
       "      <th>5</th>\n",
       "      <td>XGBClassifier</td>\n",
       "      <td>4950</td>\n",
       "    </tr>\n",
       "    <tr>\n",
       "      <th>6</th>\n",
       "      <td>CatBoosting Classifier</td>\n",
       "      <td>7600</td>\n",
       "    </tr>\n",
       "    <tr>\n",
       "      <th>0</th>\n",
       "      <td>Random Forest</td>\n",
       "      <td>7640</td>\n",
       "    </tr>\n",
       "    <tr>\n",
       "      <th>4</th>\n",
       "      <td>K-Neighbors Classifier</td>\n",
       "      <td>8170</td>\n",
       "    </tr>\n",
       "    <tr>\n",
       "      <th>1</th>\n",
       "      <td>Decision Tree</td>\n",
       "      <td>28940</td>\n",
       "    </tr>\n",
       "    <tr>\n",
       "      <th>2</th>\n",
       "      <td>Gradient Boosting</td>\n",
       "      <td>52630</td>\n",
       "    </tr>\n",
       "    <tr>\n",
       "      <th>7</th>\n",
       "      <td>AdaBoost Classifier</td>\n",
       "      <td>90800</td>\n",
       "    </tr>\n",
       "    <tr>\n",
       "      <th>3</th>\n",
       "      <td>Logistic Regression</td>\n",
       "      <td>222090</td>\n",
       "    </tr>\n",
       "  </tbody>\n",
       "</table>\n",
       "</div>"
      ],
      "text/plain": [
       "               Model Name    Cost\n",
       "5           XGBClassifier    4950\n",
       "6  CatBoosting Classifier    7600\n",
       "0           Random Forest    7640\n",
       "4  K-Neighbors Classifier    8170\n",
       "1           Decision Tree   28940\n",
       "2       Gradient Boosting   52630\n",
       "7     AdaBoost Classifier   90800\n",
       "3     Logistic Regression  222090"
      ]
     },
     "execution_count": 53,
     "metadata": {},
     "output_type": "execute_result"
    }
   ],
   "source": [
    "report_mean"
   ]
  },
  {
   "cell_type": "markdown",
   "metadata": {},
   "source": [
    "### Experiment: 5 = Principle component analysis with imputing median"
   ]
  },
  {
   "cell_type": "markdown",
   "metadata": {},
   "source": [
    "- Principal component analysis is a technique for feature extraction — so it combines our input variables in a specific way, then we can drop the “least important” variables while still retaining the most valuable parts of all of the variables! \n",
    "- As the dataset has 164 columns we can try PCA and check our metrics Cost"
   ]
  },
  {
   "cell_type": "code",
   "execution_count": null,
   "metadata": {},
   "outputs": [],
   "source": [
    "from sklearn.decomposition import PCA"
   ]
  },
  {
   "cell_type": "code",
   "execution_count": null,
   "metadata": {},
   "outputs": [],
   "source": [
    "pca_pipeline = Pipeline(steps=[\n",
    "    ('Imputer', SimpleImputer(strategy='constant', fill_value=0)),\n",
    "    ('RobustScaler', RobustScaler())\n",
    "])"
   ]
  },
  {
   "cell_type": "code",
   "execution_count": null,
   "metadata": {},
   "outputs": [],
   "source": [
    "X_pca = pca_pipeline.fit_transform(X)"
   ]
  },
  {
   "cell_type": "code",
   "execution_count": null,
   "metadata": {},
   "outputs": [],
   "source": [
    "#Applying PCA\n",
    "from sklearn.decomposition import PCA\n",
    "var_ratio={}\n",
    "for n in range(2,150):\n",
    "    pc=PCA(n_components=n)\n",
    "    df_pca=pc.fit(X_pca)\n",
    "    var_ratio[n]=sum(df_pca.explained_variance_ratio_)"
   ]
  },
  {
   "cell_type": "markdown",
   "metadata": {},
   "source": [
    "**Variance Plot**"
   ]
  },
  {
   "cell_type": "code",
   "execution_count": null,
   "metadata": {},
   "outputs": [
    {
     "data": {
      "text/plain": [
       "<AxesSubplot:>"
      ]
     },
     "execution_count": 156,
     "metadata": {},
     "output_type": "execute_result"
    },
    {
     "data": {
      "image/png": "[encoded data removed]",
      "text/plain": [
       "<Figure size 432x288 with 1 Axes>"
      ]
     },
     "metadata": {
      "needs_background": "light"
     },
     "output_type": "display_data"
    }
   ],
   "source": [
    "# plotting variance ratio\n",
    "pd.Series(var_ratio).plot()"
   ]
  },
  {
   "cell_type": "markdown",
   "metadata": {},
   "source": [
    "**Kneed algorithm to find the elbow point**"
   ]
  },
  {
   "cell_type": "code",
   "execution_count": null,
   "metadata": {},
   "outputs": [
    {
     "data": {
      "text/plain": [
       "<Figure size 360x360 with 0 Axes>"
      ]
     },
     "metadata": {},
     "output_type": "display_data"
    },
    {
     "data": {
      "image/png": "[encoded data removed]",
      "text/plain": [
       "<Figure size 432x432 with 1 Axes>"
      ]
     },
     "metadata": {
      "needs_background": "light"
     },
     "output_type": "display_data"
    },
    {
     "name": "stdout",
     "output_type": "stream",
     "text": [
      "Knee Locator k = 18\n"
     ]
    }
   ],
   "source": [
    "from kneed import KneeLocator\n",
    "\n",
    "i = np.arange(len(var_ratio))\n",
    "variance_ratio= list(var_ratio.values())\n",
    "components=  list(var_ratio.keys())\n",
    "knee = KneeLocator(i, variance_ratio, S=1, curve='concave', interp_method='polynomial')\n",
    "\n",
    "fig = plt.figure(figsize=(5, 5))\n",
    "knee.plot_knee()\n",
    "plt.xlabel(\"Points\")\n",
    "plt.ylabel(\"Distance\")\n",
    "plt.show()\n",
    "k= components[knee.knee]\n",
    "print('Knee Locator k =', k)"
   ]
  },
  {
   "cell_type": "code",
   "execution_count": null,
   "metadata": {},
   "outputs": [],
   "source": [
    "# Reducing the dimensions of the data \n",
    "pca_final=PCA(n_components=18,random_state=42).fit(X_res)\n",
    "\n",
    "reduced=pca_final.fit_transform(X_pca)"
   ]
  },
  {
   "cell_type": "code",
   "execution_count": null,
   "metadata": {},
   "outputs": [],
   "source": [
    "# Resampling the minority class. The strategy can be changed as required.\n",
    "smt = SMOTETomek(random_state=42,sampling_strategy='minority', n_jobs=-1)\n",
    "# Fit the model to generate the data.\n",
    "X_res, y_res = smt.fit_resample(reduced, y)"
   ]
  },
  {
   "cell_type": "code",
   "execution_count": null,
   "metadata": {
    "scrolled": false
   },
   "outputs": [
    {
     "name": "stdout",
     "output_type": "stream",
     "text": [
      "Random Forest\n",
      "Model performance for Training set\n",
      "- Accuracy: 0.9986\n",
      "- F1 score: 0.9986\n",
      "- Precision: 1.0000\n",
      "- Recall: 0.9972\n",
      "- Roc Auc Score: 0.9986\n",
      "- COST: 39500.\n",
      "----------------------------------\n",
      "Model performance for Test set\n",
      "- Accuracy: 0.9830\n",
      "- F1 score: 0.9831\n",
      "- Precision: 0.9787\n",
      "- Recall: 0.9876\n",
      "- Roc Auc Score: 0.9830\n",
      "- COST: 45010.\n",
      "===================================\n",
      "\n",
      "\n",
      "Decision Tree\n",
      "Model performance for Training set\n",
      "- Accuracy: 0.9986\n",
      "- F1 score: 0.9986\n",
      "- Precision: 1.0000\n",
      "- Recall: 0.9972\n",
      "- Roc Auc Score: 0.9986\n",
      "- COST: 39500.\n",
      "----------------------------------\n",
      "Model performance for Test set\n",
      "- Accuracy: 0.9741\n",
      "- F1 score: 0.9743\n",
      "- Precision: 0.9708\n",
      "- Recall: 0.9778\n",
      "- Roc Auc Score: 0.9741\n",
      "- COST: 80060.\n",
      "===================================\n",
      "\n",
      "\n",
      "Gradient Boosting\n",
      "Model performance for Training set\n",
      "- Accuracy: 0.9416\n",
      "- F1 score: 0.9414\n",
      "- Precision: 0.9442\n",
      "- Recall: 0.9385\n",
      "- Roc Auc Score: 0.9416\n",
      "- COST: 874480.\n",
      "----------------------------------\n",
      "Model performance for Test set\n",
      "- Accuracy: 0.9381\n",
      "- F1 score: 0.9380\n",
      "- Precision: 0.9440\n",
      "- Recall: 0.9320\n",
      "- Roc Auc Score: 0.9382\n",
      "- COST: 242380.\n",
      "===================================\n",
      "\n",
      "\n",
      "Logistic Regression\n",
      "Model performance for Training set\n",
      "- Accuracy: 0.8516\n",
      "- F1 score: 0.8313\n",
      "- Precision: 0.9618\n",
      "- Recall: 0.7319\n",
      "- Roc Auc Score: 0.8515\n",
      "- COST: 3753110.\n",
      "----------------------------------\n",
      "Model performance for Test set\n",
      "- Accuracy: 0.8490\n",
      "- F1 score: 0.8291\n",
      "- Precision: 0.9597\n",
      "- Recall: 0.7298\n",
      "- Roc Auc Score: 0.8494\n",
      "- COST: 950150.\n",
      "===================================\n",
      "\n",
      "\n",
      "K-Neighbors Classifier\n",
      "Model performance for Training set\n",
      "- Accuracy: 0.9722\n",
      "- F1 score: 0.9724\n",
      "- Precision: 0.9640\n",
      "- Recall: 0.9809\n",
      "- Roc Auc Score: 0.9722\n",
      "- COST: 276720.\n",
      "----------------------------------\n",
      "Model performance for Test set\n",
      "- Accuracy: 0.9652\n",
      "- F1 score: 0.9657\n",
      "- Precision: 0.9565\n",
      "- Recall: 0.9751\n",
      "- Roc Auc Score: 0.9652\n",
      "- COST: 90610.\n",
      "===================================\n",
      "\n",
      "\n",
      "XGBClassifier\n",
      "Model performance for Training set\n",
      "- Accuracy: 0.9905\n",
      "- F1 score: 0.9905\n",
      "- Precision: 0.9904\n",
      "- Recall: 0.9906\n",
      "- Roc Auc Score: 0.9905\n",
      "- COST: 133670.\n",
      "----------------------------------\n",
      "Model performance for Test set\n",
      "- Accuracy: 0.9788\n",
      "- F1 score: 0.9790\n",
      "- Precision: 0.9746\n",
      "- Recall: 0.9835\n",
      "- Roc Auc Score: 0.9788\n",
      "- COST: 59800.\n",
      "===================================\n",
      "\n",
      "\n",
      "CatBoosting Classifier\n",
      "Model performance for Training set\n",
      "- Accuracy: 0.9824\n",
      "- F1 score: 0.9824\n",
      "- Precision: 0.9808\n",
      "- Recall: 0.9840\n",
      "- Roc Auc Score: 0.9824\n",
      "- COST: 228370.\n",
      "----------------------------------\n",
      "Model performance for Test set\n",
      "- Accuracy: 0.9743\n",
      "- F1 score: 0.9745\n",
      "- Precision: 0.9702\n",
      "- Recall: 0.9789\n",
      "- Roc Auc Score: 0.9743\n",
      "- COST: 76110.\n",
      "===================================\n",
      "\n",
      "\n",
      "AdaBoost Classifier\n",
      "Model performance for Training set\n",
      "- Accuracy: 0.9215\n",
      "- F1 score: 0.9207\n",
      "- Precision: 0.9291\n",
      "- Recall: 0.9126\n",
      "- Roc Auc Score: 0.9215\n",
      "- COST: 1240960.\n",
      "----------------------------------\n",
      "Model performance for Test set\n",
      "- Accuracy: 0.9195\n",
      "- F1 score: 0.9189\n",
      "- Precision: 0.9294\n",
      "- Recall: 0.9086\n",
      "- Roc Auc Score: 0.9196\n",
      "- COST: 325340.\n",
      "===================================\n",
      "\n",
      "\n"
     ]
    }
   ],
   "source": [
    "# Training all models\n",
    "report_pca = evaluate_models(X_res,y_res, models)"
   ]
  },
  {
   "cell_type": "markdown",
   "metadata": {},
   "source": [
    "### Report for PCA and Mean imputed data"
   ]
  },
  {
   "cell_type": "code",
   "execution_count": null,
   "metadata": {},
   "outputs": [
    {
     "data": {
      "text/html": [
       "<div>\n",
       "<style scoped>\n",
       "    .dataframe tbody tr th:only-of-type {\n",
       "        vertical-align: middle;\n",
       "    }\n",
       "\n",
       "    .dataframe tbody tr th {\n",
       "        vertical-align: top;\n",
       "    }\n",
       "\n",
       "    .dataframe thead th {\n",
       "        text-align: right;\n",
       "    }\n",
       "</style>\n",
       "<table border=\"1\" class=\"dataframe\">\n",
       "  <thead>\n",
       "    <tr style=\"text-align: right;\">\n",
       "      <th></th>\n",
       "      <th>Model Name</th>\n",
       "      <th>Cost</th>\n",
       "    </tr>\n",
       "  </thead>\n",
       "  <tbody>\n",
       "    <tr>\n",
       "      <th>0</th>\n",
       "      <td>Random Forest</td>\n",
       "      <td>45010</td>\n",
       "    </tr>\n",
       "    <tr>\n",
       "      <th>5</th>\n",
       "      <td>XGBClassifier</td>\n",
       "      <td>59800</td>\n",
       "    </tr>\n",
       "    <tr>\n",
       "      <th>6</th>\n",
       "      <td>CatBoosting Classifier</td>\n",
       "      <td>76110</td>\n",
       "    </tr>\n",
       "    <tr>\n",
       "      <th>1</th>\n",
       "      <td>Decision Tree</td>\n",
       "      <td>80060</td>\n",
       "    </tr>\n",
       "    <tr>\n",
       "      <th>4</th>\n",
       "      <td>K-Neighbors Classifier</td>\n",
       "      <td>90610</td>\n",
       "    </tr>\n",
       "    <tr>\n",
       "      <th>2</th>\n",
       "      <td>Gradient Boosting</td>\n",
       "      <td>242380</td>\n",
       "    </tr>\n",
       "    <tr>\n",
       "      <th>7</th>\n",
       "      <td>AdaBoost Classifier</td>\n",
       "      <td>325340</td>\n",
       "    </tr>\n",
       "    <tr>\n",
       "      <th>3</th>\n",
       "      <td>Logistic Regression</td>\n",
       "      <td>950150</td>\n",
       "    </tr>\n",
       "  </tbody>\n",
       "</table>\n",
       "</div>"
      ],
      "text/plain": [
       "               Model Name    Cost\n",
       "0           Random Forest   45010\n",
       "5           XGBClassifier   59800\n",
       "6  CatBoosting Classifier   76110\n",
       "1           Decision Tree   80060\n",
       "4  K-Neighbors Classifier   90610\n",
       "2       Gradient Boosting  242380\n",
       "7     AdaBoost Classifier  325340\n",
       "3     Logistic Regression  950150"
      ]
     },
     "execution_count": 162,
     "metadata": {},
     "output_type": "execute_result"
    }
   ],
   "source": [
    "report_pca"
   ]
  },
  {
   "cell_type": "markdown",
   "metadata": {},
   "source": [
    "## Final Model"
   ]
  },
  {
   "cell_type": "code",
   "execution_count": null,
   "metadata": {},
   "outputs": [
    {
     "name": "stdout",
     "output_type": "stream",
     "text": [
      "+--------------------+-------------------------+------------+\n",
      "|       Model        |    Imputation_method    | Total_cost |\n",
      "+--------------------+-------------------------+------------+\n",
      "|   XGBClassifier    | Simple Imputer-Constant |    2950    |\n",
      "|   XGBClassifier    |           Mice          |    3510    |\n",
      "|   XGBClassifier    |       Knn-Imputer       |    4460    |\n",
      "|   XGBClassifier    |   Simple Imputer-Mean   |    4950    |\n",
      "| CatBoostClassifier |          Median         |    5760    |\n",
      "|   Random Forest    |           PCA           |   34150    |\n",
      "+--------------------+-------------------------+------------+\n"
     ]
    }
   ],
   "source": [
    "from prettytable import PrettyTable\n",
    "\n",
    "pt=PrettyTable()\n",
    "pt.field_names=[\"Model\",\"Imputation_method\",\"Total_cost\"]\n",
    "pt.add_row([\"XGBClassifier\",\"Simple Imputer-Constant\",\"2950\"])\n",
    "pt.add_row([\"XGBClassifier\",\"Mice\",\"3510\"])\n",
    "pt.add_row([\"XGBClassifier\",\"Knn-Imputer\",\"4460\"])\n",
    "pt.add_row([\"XGBClassifier\",\"Simple Imputer-Mean\",\"4950\"])\n",
    "pt.add_row([\"CatBoostClassifier\",\"Median\",\"5760\"])\n",
    "pt.add_row([\"Random Forest\",\"PCA\",\"34150\"])\n",
    "print(pt)"
   ]
  },
  {
   "cell_type": "markdown",
   "metadata": {},
   "source": [
    "**Report**\n",
    "- From the final report we can see than XGBClassifier with Simple imputer with strategy constant has performed the best with cost of 2950"
   ]
  },
  {
   "cell_type": "markdown",
   "metadata": {},
   "source": [
    "### Fitting the Final model and get reports"
   ]
  },
  {
   "cell_type": "code",
   "execution_count": null,
   "metadata": {},
   "outputs": [],
   "source": [
    "final_model = XGBClassifier()\n",
    "\n",
    "# Resampling the minority class. The strategy can be changed as required.\n",
    "smt = SMOTETomek(random_state=42,sampling_strategy='minority', n_jobs=-1)\n",
    "# Fit the model to generate the data.\n",
    "X_res, y_res = smt.fit_resample(X_const, y)"
   ]
  },
  {
   "cell_type": "code",
   "execution_count": null,
   "metadata": {},
   "outputs": [],
   "source": [
    "X_train, X_test, y_train, y_test = train_test_split(X_res,y_res,test_size=0.2,random_state=42)\n",
    "\n",
    "final_model = final_model.fit(X_train, y_train)\n",
    "y_pred = final_model.predict(X_test)"
   ]
  },
  {
   "cell_type": "code",
   "execution_count": null,
   "metadata": {},
   "outputs": [
    {
     "name": "stdout",
     "output_type": "stream",
     "text": [
      "Final XGBoost Classifier Accuracy Score (Train) : 0.9999821759589335\n",
      "Final XGBoost Classifier Accuracy Score (Test) : 0.9964351917866818\n"
     ]
    }
   ],
   "source": [
    "print(\"Final XGBoost Classifier Accuracy Score (Train) :\", final_model.score(X_train,y_train))\n",
    "print(\"Final XGBoost Classifier Accuracy Score (Test) :\", accuracy_score(y_pred,y_test))"
   ]
  },
  {
   "cell_type": "code",
   "execution_count": null,
   "metadata": {},
   "outputs": [
    {
     "name": "stdout",
     "output_type": "stream",
     "text": [
      "Final XGBoost Classifier Cost Metric(Test) : 2950\n"
     ]
    }
   ],
   "source": [
    "print(\"Final XGBoost Classifier Cost Metric(Test) :\",total_cost(y_test, y_pred))"
   ]
  },
  {
   "cell_type": "code",
   "execution_count": null,
   "metadata": {},
   "outputs": [
    {
     "data": {
      "image/png": "[encoded data removed]",
      "text/plain": [
       "<Figure size 432x288 with 2 Axes>"
      ]
     },
     "metadata": {
      "needs_background": "light"
     },
     "output_type": "display_data"
    }
   ],
   "source": [
    "from sklearn.metrics import plot_confusion_matrix\n",
    "\n",
    "#plots Confusion matrix\n",
    "plot_confusion_matrix(final_model, X_test, y_test, cmap='Blues', values_format='d')"
   ]
  },
  {
   "cell_type": "markdown",
   "metadata": {},
   "source": [
    "## The best Model is XGBoost Classifier with 99.6% accuracy and cost of 2950"
   ]
  },
  {
   "cell_type": "code",
   "execution_count": null,
   "metadata": {},
   "outputs": [],
   "source": []
  }
 ],
 "metadata": {
  "kernelspec": {
   "display_name": "Python 3.8.10 64-bit",
   "language": "python",
   "name": "python3"
  },
  "language_info": {
   "codemirror_mode": {
    "name": "ipython",
    "version": 3
   },
   "file_extension": ".py",
   "mimetype": "text/x-python",
   "name": "python",
   "nbconvert_exporter": "python",
   "pygments_lexer": "ipython3",
   "version": "3.8.10"
  },
  "vscode": {
   "interpreter": {
    "hash": "e7370f93d1d0cde622a1f8e1c04877d8463912d04d973331ad4851f04de6915a"
   }
  }
 },
 "nbformat": 4,
 "nbformat_minor": 4
}
